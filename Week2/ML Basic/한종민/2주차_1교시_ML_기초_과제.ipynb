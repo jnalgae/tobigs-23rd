{
 "cells": [
  {
   "cell_type": "markdown",
   "metadata": {
    "id": "HdK1T-1d-NJi"
   },
   "source": [
    "# **2주차 1교시 ML 기초 과제**\n",
    "Q1. Hyperparameter Tuning\n",
    "\n",
    "Q2. airline passenger satisfaction survey 분석하기\n"
   ]
  },
  {
   "cell_type": "markdown",
   "metadata": {
    "id": "6l9AsCfhgNut"
   },
   "source": [
    "## **Q1. Hyperparameter Tuning**\n",
    "\n",
    "- 아래 코드는 SVM(Support Vector Machine) 모델을 사용하여 분류와 회귀 문제를 해결하며, Grid Search, Random Search, Bayesian Search를 활용하여 Hyperparameter Tuning을 수행합니다.\n",
    "\n",
    "  - 참고 사항\n",
    "    - SVM의 하이퍼파라미터는 c와 kernel입니다.\n",
    "    - C: SVM 모델이 오류를 얼마나 허용할 것인지 결정합니다. C값이 클수록 오류를 허용하지 않는 Hard Margin, 작을수록 오류를 허용하는 Soft Margin이 적용됩니다. 이때, C값이 너무 크면 overfitting, 너무 작으면 underfitting이 발생할 수 있으므로 Hyperparameter Tuning을 통해 적절한 값을 찾아야 합니다.\n",
    "    - kernel: 데이터 셋의 형태에 따라 다르게 정해주어야 합니다. 선형 데이터셋의 경우 'linear'를, 비선형 데이터셋은 'poly', 'rbf'을 주로 사용합니다. 이 또한, Hyperparameter Tuning을 통해 최적의 kernel을 찾아주는 것이 좋습니다."
   ]
  },
  {
   "cell_type": "markdown",
   "metadata": {
    "id": "2YdbgvnNTm56"
   },
   "source": [
    "**Data prepration**"
   ]
  },
  {
   "cell_type": "code",
   "execution_count": 1,
   "metadata": {
    "id": "hbtR8VN7-llM"
   },
   "outputs": [],
   "source": [
    "from sklearn.model_selection import train_test_split\n",
    "from sklearn.datasets import make_classification, make_regression\n",
    "from sklearn.svm import SVC, SVR\n",
    "from sklearn.metrics import accuracy_score, mean_squared_error\n",
    "import numpy as np\n",
    "\n",
    "# synthetic data for classification\n",
    "X_cls, y_cls = make_classification(n_samples=1000, n_features=20, random_state=123)\n",
    "X_cls_train, X_cls_test, y_cls_train, y_cls_test = train_test_split(X_cls, y_cls, test_size=0.2, random_state=42)\n",
    "\n",
    "# synthetic data for regression\n",
    "X_reg, y_reg = make_regression(n_samples=1000, n_features=20, noise=0.1, random_state=123)\n",
    "X_reg_train, X_reg_test, y_reg_train, y_reg_test = train_test_split(X_reg, y_reg, test_size=0.2, random_state=42)"
   ]
  },
  {
   "cell_type": "code",
   "execution_count": 13,
   "metadata": {},
   "outputs": [
    {
     "data": {
      "text/plain": [
       "array([[-0.06193095, -0.46894531, -0.59603154, ..., -0.1238895 ,\n",
       "         0.19548695, -0.4691541 ],\n",
       "       [-1.87686866, -0.53067456,  0.28372536, ..., -0.23966878,\n",
       "         0.4562709 ,  0.5565487 ],\n",
       "       [-0.23584751, -0.99077849, -0.68415371, ..., -1.45852438,\n",
       "         1.41337725,  1.87390808],\n",
       "       ...,\n",
       "       [-0.24881783, -0.36588239, -0.11507359, ...,  1.42950612,\n",
       "        -0.82782433, -0.48111585],\n",
       "       [-0.03544731, -0.87502288, -0.91652416, ...,  2.48480167,\n",
       "         0.55779894,  0.71915635],\n",
       "       [ 0.31259352, -0.14641577, -0.77433273, ..., -1.14053426,\n",
       "        -0.2166868 ,  1.1224997 ]])"
      ]
     },
     "execution_count": 13,
     "metadata": {},
     "output_type": "execute_result"
    }
   ],
   "source": [
    "X_reg"
   ]
  },
  {
   "cell_type": "code",
   "execution_count": 15,
   "metadata": {},
   "outputs": [
    {
     "data": {
      "text/plain": [
       "array([ 7.16978353e-01,  2.38562959e+02, -3.64892971e+01,  2.88060390e+02,\n",
       "       -2.51419724e+02,  2.13480395e+02, -5.66662718e+01,  3.58624246e+02,\n",
       "        2.49860740e+02, -3.58511031e+02, -2.46973030e+01, -2.03828559e+02,\n",
       "       -4.69276967e+02,  5.21755724e+01, -5.77047158e+01,  2.39182679e+02,\n",
       "       -8.80420877e+01, -4.50535942e+01,  8.82934005e+01, -7.85281485e+02,\n",
       "        2.87790315e+02,  1.07103918e+02, -8.46003519e+01, -1.42796415e+02,\n",
       "        1.80425760e+02, -3.24569358e+01,  3.13683865e+02,  3.76934898e+01,\n",
       "        2.73269261e+02, -1.78168480e+02,  4.14364705e+02,  4.14452005e+02,\n",
       "        6.87945747e+01, -2.68349805e+01, -2.90873326e+02, -4.80378304e+01,\n",
       "       -2.95761122e+02, -8.88422204e+01,  1.44518298e+02, -5.91705465e+01,\n",
       "        5.23730255e+01, -1.17478108e+02, -2.10577642e+02,  3.94938642e+01,\n",
       "        2.62951179e+02, -1.81705852e+02,  3.30696502e+02,  3.45609138e+02,\n",
       "        1.32676327e+02, -3.43594052e+01,  9.72935822e+00,  3.04662915e+02,\n",
       "       -1.28535191e+02, -2.09678317e+02, -7.72794044e+01, -3.55776230e+02,\n",
       "        3.18624781e+02,  6.61491291e+01, -2.70621753e+02, -7.43999421e+01,\n",
       "        3.67127244e+02, -2.45896758e+02,  1.72021293e+01,  2.46255091e+02,\n",
       "       -1.06753283e+02,  3.08176057e+02,  1.59031097e+02, -2.01657201e+02,\n",
       "       -4.75865197e+01, -3.28502858e+02,  2.95467211e+01,  4.19241335e+02,\n",
       "        2.11116790e+02, -1.62638385e+02,  9.14499776e+01,  1.90552984e+02,\n",
       "        3.56161212e+02, -1.47722771e+02, -4.19307872e+02,  1.95714115e+02,\n",
       "       -2.98240655e+02, -1.31144854e+01, -2.26216534e+02, -5.05046698e+01,\n",
       "       -4.74500460e+01,  1.11340277e+02, -2.24416092e+01, -1.10559801e+02,\n",
       "        3.50424296e+01,  1.51376838e+01,  8.90435997e+01, -6.75244192e+01,\n",
       "       -3.53614378e+01,  8.87365542e+01, -9.30139179e+01,  1.61213379e+02,\n",
       "       -2.07747301e+02, -1.14483644e+02, -3.40761602e+00,  2.74356305e+02,\n",
       "        1.91462507e+02, -4.75649265e+01, -1.82152722e+02, -4.25443489e+01,\n",
       "       -2.67826207e+02,  1.40859104e+02,  2.52691353e+01,  2.11611293e+02,\n",
       "        8.99987030e+00,  1.94137737e+02, -1.22996830e+01,  1.12263733e+01,\n",
       "        7.02121641e+01, -3.07114835e+01,  1.56021531e+02, -6.64332839e+01,\n",
       "       -2.34991061e+02, -1.78309853e+02, -4.98332034e+01,  2.95746405e+02,\n",
       "       -3.11977217e+01, -4.00353727e+01, -5.57519215e+01,  6.18165787e+01,\n",
       "        1.31337994e+02, -1.78374789e+00, -1.67218099e+02, -2.97540196e+02,\n",
       "        3.75918656e+02,  2.03385270e+02,  1.54144186e+02,  2.69420852e+02,\n",
       "       -2.44040992e+02,  4.49946153e+02,  4.72683907e+01, -1.05539460e+02,\n",
       "        1.59168654e+02, -3.26261476e+02,  1.81150016e+02, -7.14932954e+01,\n",
       "       -1.32877212e+02, -8.28406188e+01, -2.19368232e+02, -1.87604112e+02,\n",
       "        2.04135639e+01, -3.22340010e+02,  1.35885870e+02,  4.33950867e+02,\n",
       "       -4.01877126e+02,  1.39847381e+02, -2.63480176e+02, -6.22495263e+01,\n",
       "        2.73638656e+02,  1.61160591e+02,  9.35668098e+01, -2.11765477e+01,\n",
       "       -1.32531136e+02,  6.54959078e+01,  2.92546277e+02,  7.11441102e+01,\n",
       "        1.51479043e+02,  5.42544478e+01,  4.44797753e+00,  9.01064630e+01,\n",
       "        1.77250868e+02, -1.53929151e+02, -2.70326712e+02,  2.28590200e+02,\n",
       "       -3.23550263e+02, -4.10531654e+02,  3.87554746e+02, -9.55141022e+01,\n",
       "        1.01011657e+02,  3.65803567e+02,  4.41785662e+02, -2.74132479e+02,\n",
       "       -1.86800858e+02,  5.61817765e+01,  4.14540523e+00,  3.78651857e+02,\n",
       "        1.37538757e+02, -2.82160903e+02, -9.44008897e+01, -1.12358523e+02,\n",
       "       -2.82268562e+02,  2.91884177e+02, -3.90384227e+02,  1.26246632e+02,\n",
       "        1.12236889e+02,  9.53432504e+01, -1.51442347e+02,  2.98397774e+02,\n",
       "        4.33706456e+02, -2.02313269e+02,  1.55338191e+02, -7.82684008e+01,\n",
       "       -3.43049728e+02, -7.04252849e+01,  1.04717166e+02, -2.13584752e+02,\n",
       "       -1.60478325e+02,  2.32733305e+02, -4.75398214e+01,  1.61115890e+02,\n",
       "        2.35140842e+02, -2.15776052e+02,  2.19734730e+02, -1.21083497e+02,\n",
       "       -6.23581110e+01, -2.58186026e+02, -3.07261845e+02,  4.79096949e+00,\n",
       "        4.75364771e+02,  5.25666294e+01, -5.11303487e+01,  3.75387903e+02,\n",
       "        3.86631683e+01,  9.08341508e+01, -2.72476689e+02,  7.48489475e+01,\n",
       "       -3.41000475e+02,  1.51339092e+02,  1.16196850e+02, -5.69577754e+00,\n",
       "        3.54107348e+01,  2.09249885e+02,  2.93718908e+02, -2.25586279e+02,\n",
       "       -2.05487816e+02, -4.20538177e+02,  2.25007407e+02, -5.91323146e+01,\n",
       "       -1.09032613e+02,  3.19198622e+01,  3.59931649e+02,  1.94012637e+02,\n",
       "        8.20652441e+01, -1.78601487e+02, -3.07316469e+02,  1.22018594e+02,\n",
       "       -1.05237349e+02,  1.05052383e+02,  3.39464603e+02, -3.40932616e+02,\n",
       "        3.12768883e+01, -1.29094602e+02, -3.31761477e+02, -1.23711777e+02,\n",
       "       -1.32757680e+01,  1.58263086e+02,  4.54012541e+02, -2.89052532e+02,\n",
       "       -4.22750748e+01, -1.53671700e+02, -3.31298554e+02,  1.08834040e+02,\n",
       "       -3.09577524e+02,  3.30173180e+02, -1.40935603e+02,  1.99924948e+02,\n",
       "        3.24366784e+02,  9.26549955e+01, -4.44662665e+01, -1.01568345e+02,\n",
       "        9.27031452e+01,  2.56265992e+02,  1.04026335e+01,  7.24578887e+01,\n",
       "       -2.68774333e+02,  1.68576708e+02, -3.69509858e+02,  1.43754169e+02,\n",
       "       -5.14954621e+01, -2.61633797e+02,  2.30244606e+02, -3.95064030e+02,\n",
       "       -2.83915533e+02, -1.13446915e+02,  1.58915743e+02, -1.18900089e+02,\n",
       "       -1.87621192e+02, -2.65602845e+02,  9.59265354e+00, -2.43434039e+02,\n",
       "        1.07092859e+02,  5.25112331e+01,  2.34707488e+02, -2.24022275e+02,\n",
       "       -3.00618996e+02,  2.85560081e+02,  7.30101034e+01,  2.06272558e+02,\n",
       "        2.00195712e+02, -1.12357829e+01,  1.84822040e+02, -2.11706220e+02,\n",
       "       -1.24100346e+02,  2.84266127e+02, -6.29811170e+01, -1.86654275e+02,\n",
       "       -6.97472954e+01, -2.25508498e+02,  3.10215979e+02,  6.08132670e+01,\n",
       "       -5.30722471e+00,  8.49038458e+01, -1.84685014e+02,  1.53116789e+01,\n",
       "       -2.21203882e+02,  1.52703871e+02,  3.23113443e+02, -9.87911066e+01,\n",
       "       -1.63607195e+02,  7.49596401e+00, -7.93729279e+01,  6.51447565e+00,\n",
       "       -7.10813084e+01, -3.65002727e+02, -3.08183753e+02,  5.55945506e+02,\n",
       "        1.42802143e+02,  5.71584329e+01, -6.43434394e+02, -7.15194529e+01,\n",
       "        1.39549325e+01,  4.30901914e+02,  5.48093911e+00,  3.10428536e+01,\n",
       "       -1.21389421e+01,  1.02757792e+00, -1.01607309e+01,  1.11741567e+01,\n",
       "        2.12788164e+02,  4.92136181e+02,  1.73285171e+02, -1.15635192e+02,\n",
       "        2.17162228e+01,  9.66548873e+00,  1.73633848e+02, -1.13722544e+02,\n",
       "       -2.59965256e+02,  2.32218056e+02, -7.06575953e+01,  2.74489476e+02,\n",
       "       -1.75973665e+02, -4.11705371e+01,  1.93649674e+02, -4.18251067e+00,\n",
       "        3.73975970e+02, -2.72025130e+02,  1.87775000e+02,  9.76207793e+01,\n",
       "        4.79636005e+01,  5.98009221e+02, -9.97695860e+01,  2.06442416e+01,\n",
       "       -2.83884769e+02,  4.96740075e+01,  8.27449600e+01,  5.36016478e+01,\n",
       "        2.00107253e+01,  3.36565975e+02,  1.23585523e+02,  9.17907295e+01,\n",
       "        1.90118484e+02, -1.00102489e+02, -6.14304113e+01, -2.60259188e+02,\n",
       "       -6.02802356e+01,  1.72423871e+02, -8.27211689e+01,  1.20486840e+02,\n",
       "       -1.57518651e+02,  3.14490325e+01, -1.77256246e+02, -9.48221943e+00,\n",
       "       -2.30434237e+02,  9.30621087e+01,  4.11457469e+01,  6.12784755e+01,\n",
       "        1.64674901e+02,  1.52987899e+02, -1.37735866e+02, -1.68111046e+02,\n",
       "       -1.93227508e+01, -3.91927830e+02, -1.73103173e+02,  4.05436428e+01,\n",
       "        1.55055132e+02, -1.58476367e+02,  4.20837162e+02,  1.78528762e+01,\n",
       "        1.20278714e+02,  1.28460560e+02, -1.57978064e+02, -4.55336386e+01,\n",
       "        1.46322812e+02,  1.53985744e+02,  2.75521304e+01,  2.61675645e+02,\n",
       "       -2.68936626e+01,  1.79516340e+02,  3.45601107e+02, -6.72507889e+02,\n",
       "        1.76959256e+02, -2.56642336e+02, -2.52433995e+02,  6.42552251e+01,\n",
       "       -3.75352699e+02, -3.28367916e+02, -2.69613084e+02,  1.00444795e+02,\n",
       "       -3.31653503e+02,  4.79746302e+01,  3.59188678e+02,  2.77797711e+02,\n",
       "       -1.00641507e+02,  4.98576081e+02,  1.73977746e+02,  1.68843461e+02,\n",
       "        2.85316551e+02,  3.38332035e+02, -3.54971006e+00,  3.87068400e+02,\n",
       "       -1.13076300e+01,  7.09712780e+01, -3.12093312e+02,  2.56586055e+02,\n",
       "        1.68961673e+02, -4.75058308e+01,  1.41768317e+01, -4.30318070e+01,\n",
       "        1.72608964e+02, -5.81656865e+01, -9.38762336e+01,  7.40912230e+00,\n",
       "       -2.93808251e+02, -4.71824832e+01,  1.73990885e+02,  3.00825268e+02,\n",
       "       -1.83856118e+01,  1.24332238e+02, -2.68256934e+02, -1.98439741e+02,\n",
       "       -5.44667441e+01, -1.47528330e+02,  2.18461734e+02,  1.29356861e+02,\n",
       "       -1.13915044e+02, -6.30625416e+01,  3.52042970e+02,  3.40451147e+01,\n",
       "       -1.85657002e+02, -7.23534094e+01, -8.14715994e+01, -1.65207192e+01,\n",
       "       -8.07976015e+01, -2.67207159e+01,  7.36977690e+01,  3.14677175e+02,\n",
       "       -1.26053666e+01,  3.98581919e+02, -1.64932485e+02, -2.08702331e+02,\n",
       "       -3.29026801e+02,  2.27734194e+02,  4.84830356e+02, -1.86772380e+02,\n",
       "       -2.21690477e+02,  2.83101117e+02,  1.17740285e+02, -2.06380909e+01,\n",
       "       -5.15889814e+02,  6.55535992e+01, -2.14676362e+02, -1.78197567e+02,\n",
       "       -1.56878184e+02, -2.45981194e+02, -3.36684075e+01, -3.35784453e+01,\n",
       "        5.66433490e+01,  1.11121936e+02, -4.19466804e+01,  3.41517045e+02,\n",
       "       -1.06608252e+02, -6.64707919e+01,  5.52944915e+02, -2.77913182e+02,\n",
       "        1.98566962e+02, -2.50667756e+02, -2.36004672e+01,  6.36661445e+00,\n",
       "       -6.50176062e+01,  1.17663734e+02,  2.65873025e+02, -1.79016021e+02,\n",
       "       -2.57737965e+02,  1.78375841e+02,  1.06294240e+02,  7.57969784e+01,\n",
       "       -2.15042035e+02, -2.09370904e+01, -5.91022522e+01,  3.36264390e+02,\n",
       "        3.03445722e+02, -8.74284820e+01, -2.79556264e+02, -4.34993602e+01,\n",
       "       -2.64677401e+00,  3.78914998e+01,  1.36157877e+02,  4.94578053e+01,\n",
       "       -3.71914518e+02,  2.19353001e+02, -1.68448348e+02, -2.95357945e+02,\n",
       "       -1.53456879e+02, -1.40529653e+02,  2.79939116e+00,  1.99514442e+02,\n",
       "        2.65513240e+02, -1.23568858e+02, -2.78412616e+02,  4.47654050e+02,\n",
       "        1.56284981e+02,  2.09711024e+02,  2.07049965e+02,  2.27949564e+02,\n",
       "       -4.18590927e+02, -9.16525086e+01,  1.35935645e+02, -1.41879881e+01,\n",
       "        1.22228105e+02,  3.04073593e+02,  1.26478374e+02, -1.18767378e+02,\n",
       "       -5.06827581e+02,  1.86155029e+02,  4.19872915e+02,  2.68986819e+02,\n",
       "       -5.93175319e+01, -3.85285870e+02, -1.70675132e+02,  8.24953007e+00,\n",
       "        2.18953595e+02, -9.56634363e+00, -5.39471324e+02,  4.78855466e+01,\n",
       "       -3.24055486e+01,  3.22655362e+02,  1.70308293e+02,  1.10820421e+02,\n",
       "        5.09622732e+02,  7.89048437e+01, -2.35269718e+02,  1.28996543e+02,\n",
       "        6.40825075e+02, -1.67040397e+02,  2.11175283e+01,  1.25358620e+02,\n",
       "       -3.57808985e+02, -1.79365145e+02, -1.75118563e+02, -5.01442144e+01,\n",
       "       -1.20388079e+01, -8.23472583e+01, -3.55607292e+02,  7.98239573e+01,\n",
       "        5.15405725e+01, -5.37346831e+01, -1.42496135e+02, -1.19115451e+02,\n",
       "       -1.08549063e+02, -1.34762449e+02,  4.43316830e+02,  2.07462252e+02,\n",
       "       -3.80980017e+02,  2.67956630e+02,  1.51993962e+02, -6.10344124e+02,\n",
       "       -1.91158963e+01,  3.20489327e+02,  4.59898138e+02,  1.76713909e+02,\n",
       "        1.76257006e+02,  3.97274947e+02, -2.62349081e+01,  1.28115856e+02,\n",
       "        1.88985065e+02,  3.54511677e+01, -1.33521772e+02, -2.06682904e+02,\n",
       "       -9.41628033e+01, -8.73753559e+01, -1.53788340e+02,  7.72934379e+00,\n",
       "        2.56786346e+02,  7.72472161e+01, -1.00619742e+02, -4.48998551e+02,\n",
       "        1.44539007e+02,  1.16484697e+02, -3.40388104e+01,  2.22820376e+02,\n",
       "       -2.93304139e+01,  5.28641362e+02,  2.95522207e+02,  1.90606115e+02,\n",
       "        9.68138133e+01, -1.15233067e+02,  3.22198548e+02,  3.40052407e+02,\n",
       "        1.98274308e+01, -8.22940781e+00, -5.98821730e+01,  3.07473591e+02,\n",
       "       -3.04997006e+02, -4.23579777e+02,  1.55878589e+02,  2.97497368e+01,\n",
       "       -1.36666102e+02,  5.73556525e+01, -2.48027750e+02,  7.09952213e+01,\n",
       "        4.67581037e+02,  6.62333884e+00,  2.49651672e+02,  1.16128770e+02,\n",
       "       -2.76080520e+02,  1.72145289e+02,  2.59969304e+02, -4.81179211e+01,\n",
       "        7.58626292e+01, -2.80159694e+02,  1.46801564e+01,  1.19294400e+02,\n",
       "        3.54142029e+02, -2.08851180e+02, -1.96155555e+02,  8.24647543e+01,\n",
       "       -4.25451997e+02, -9.96003010e+01, -1.44840246e+02,  7.57000126e+01,\n",
       "        1.42194255e+02,  2.54087412e+02, -2.69277090e+02, -1.33637304e+02,\n",
       "        1.32284290e+02,  1.69832622e+02, -2.89050646e+01, -5.29300575e+01,\n",
       "       -2.30484941e+02,  2.40019081e+02, -2.33674119e+02, -4.43606756e+02,\n",
       "       -2.19665006e+02, -1.97992376e+02, -5.67487500e-01,  1.78081467e+02,\n",
       "       -4.61193361e+02, -6.15576446e+01, -6.63985050e+01, -2.87851564e+02,\n",
       "        2.83038894e+02,  4.16064527e+02,  1.81872959e+02,  8.66009390e+01,\n",
       "       -2.53492436e+02, -1.37341953e+02, -1.15540847e+02,  1.78544024e+02,\n",
       "       -2.01575615e+02,  1.90252591e+02,  1.79724538e+01,  2.79212942e+01,\n",
       "       -7.43909662e+01, -2.79695119e+02,  2.91500793e+01,  1.33331369e+02,\n",
       "       -1.24170622e+02, -6.47754889e+00,  1.76991838e+01,  4.21499949e+01,\n",
       "        1.87017140e+02, -1.65922265e+02,  1.00551738e+02, -2.40128019e+02,\n",
       "       -3.20742780e+02, -1.21935271e+02,  4.55268198e+02, -2.00602690e+02,\n",
       "        1.89156381e+02, -8.96061302e+01, -6.50253919e+01, -4.02450551e+01,\n",
       "        1.41752286e+01,  3.23474569e+02, -1.28219426e+02,  1.31621026e+02,\n",
       "        8.54511978e+01, -5.37831390e+01,  9.83018794e+01,  6.74887210e+01,\n",
       "       -1.49515079e+02,  3.45229714e+02, -3.98872906e+01, -1.75148577e+01,\n",
       "       -7.44250388e+01,  1.80625819e+02, -2.74410906e+02, -5.32601874e+02,\n",
       "       -2.28113873e+02, -2.45825892e+02, -1.22996107e+02, -4.33055119e+02,\n",
       "        5.97135579e+01, -2.61033623e+02,  2.41436282e+02,  1.23957452e+02,\n",
       "        3.62214440e+02, -3.21714195e+02,  3.83314645e+02,  1.07554392e+01,\n",
       "       -2.98900245e+02,  7.54063433e+01,  8.59918502e+01, -1.00467226e+01,\n",
       "        2.63179088e+02, -6.56044792e-01, -1.70687871e+02, -3.43388971e+02,\n",
       "        2.07077127e+01,  9.48817860e+01, -2.90075531e+01,  4.03700527e+02,\n",
       "        2.30831948e+02,  4.49007573e+01, -1.71763602e+02,  1.23895192e+02,\n",
       "       -2.27755298e+02, -3.96333383e+02, -3.88870728e+02,  1.20562841e+02,\n",
       "       -2.78903729e+01,  9.58132006e+01,  4.74983563e+02,  6.84526927e+01,\n",
       "        2.68249447e+02,  8.16071433e+01, -1.12768416e+01, -3.16394276e+02,\n",
       "        8.22714978e+01,  3.36509382e+01,  1.01333190e+02, -5.11013957e+01,\n",
       "        7.86565364e+01, -9.69058994e+01, -2.23704415e+02, -7.04841638e+01,\n",
       "        8.82857595e+01, -3.15812084e+02, -9.90636730e+01, -1.63533034e+02,\n",
       "        1.57381101e+02, -1.49672617e+02, -3.40752377e+02,  3.50049247e+02,\n",
       "       -3.74272134e+01, -3.29946272e+02, -2.01076707e+02,  2.57948310e+02,\n",
       "        4.21297438e+01, -8.95286171e+01,  2.88708145e+02,  1.40691978e+02,\n",
       "       -4.10239346e+01, -2.18470927e+02,  2.98485290e+00,  2.32624796e+02,\n",
       "        8.83714692e+01,  5.55369851e+02, -5.13994426e+01, -1.99450202e+02,\n",
       "       -8.45729009e+00, -1.10689701e+01, -1.36989226e+02,  1.71001562e+02,\n",
       "       -3.80189560e+02, -2.24694339e+01, -1.39565443e+02, -5.02769433e+01,\n",
       "       -3.38756921e+02,  1.81836392e+02,  4.22119074e+02, -5.29452467e+01,\n",
       "       -6.58449806e+01,  1.12368448e+02,  9.99950841e+01, -2.37829545e+02,\n",
       "        1.74929717e+02, -6.85056670e+01, -6.14355578e+01, -1.34675764e+02,\n",
       "       -5.17743417e+02, -4.81877614e+02, -3.05381038e+02, -2.02248628e+02,\n",
       "       -1.59923205e+02,  3.76182613e+00,  1.76464135e+02,  1.22503912e+01,\n",
       "       -6.95564438e+01, -3.37496982e+02, -1.68581818e+02, -6.11175437e+01,\n",
       "        1.56325182e+02, -2.05072466e+02, -1.44658665e+01, -1.06488324e+02,\n",
       "        3.02184139e+02, -9.37564293e+01, -2.44952080e+02,  4.35064297e+01,\n",
       "       -3.42545970e+02,  1.60700155e+01, -1.92353776e+02, -2.21361109e+02,\n",
       "       -3.15513819e+01, -2.02344283e+02, -6.34495359e+01, -2.47009960e+02,\n",
       "       -5.99138686e+00, -2.56346929e+02,  1.53671892e+02,  9.72681098e+01,\n",
       "        1.54078604e+02,  2.25432439e+02,  2.30919030e+02, -1.27730603e+02,\n",
       "       -7.71030909e+00,  4.44047813e+02,  1.97474687e+02, -4.06816567e+02,\n",
       "        3.28899172e+02, -9.65333940e+00, -1.14311560e+02, -2.95817551e+02,\n",
       "       -2.47529364e+02, -9.47515424e+01,  1.42982007e+02,  1.66088156e+02,\n",
       "        3.22485124e+02, -2.08565112e+02, -2.04179927e+02,  1.08714270e+02,\n",
       "       -1.67036562e+02, -2.24688839e+02, -8.72668920e+01, -1.73107240e+01,\n",
       "        2.27367198e+02, -2.26841309e+02,  1.62599857e+02,  1.78119693e+02,\n",
       "       -5.46421221e+01,  7.83137425e+02, -1.13565158e+02,  8.10187532e+01,\n",
       "       -1.65572108e+02, -5.98376747e+01,  3.70600200e+02, -9.75671104e+01,\n",
       "        1.84968628e+02, -9.46811737e+01, -6.72411892e+01,  2.07860883e+02,\n",
       "       -1.66491210e+02, -5.67053188e+01,  3.34839194e+01,  6.00158779e+02,\n",
       "        1.45205284e+02, -3.50370371e+02,  2.71650279e+02,  1.10811211e+02,\n",
       "       -1.23552358e+02, -3.31253630e+02, -1.16387123e+02, -1.10736335e+02,\n",
       "        3.17639581e+02, -1.09653150e+02, -2.11353303e+02,  1.05889793e+02,\n",
       "       -4.25305881e+02,  1.85388753e+02, -2.42674746e+02,  7.37755427e+01,\n",
       "        2.10881108e+01,  3.33132037e+02, -3.90401730e+01, -1.99135045e+02,\n",
       "       -7.97960435e+01,  1.58773961e+02, -1.74038829e+01,  3.81391451e+01,\n",
       "       -2.30248251e+02, -3.25340388e+02, -3.26187139e+02,  1.16996137e+02,\n",
       "        3.25184672e+02, -1.12310113e+02,  2.43463463e+02,  3.06679959e+02,\n",
       "        1.91240014e+02,  9.29772693e+01, -6.80213314e+01,  2.86267138e+02,\n",
       "        7.91529391e+01,  8.72471431e-01,  9.94988686e+01,  2.14065804e+02,\n",
       "        2.23818083e+02,  2.54801100e+02, -8.94901766e+01,  1.03942833e+02,\n",
       "        2.08854351e+02,  2.15635004e+01,  5.20712549e+02,  2.27945759e+02,\n",
       "       -3.97555127e+02,  1.20093718e+02,  5.68418153e+01, -2.28174907e+02,\n",
       "       -1.86370820e+02,  4.67255704e+02, -1.74687804e+02,  2.37473252e+02,\n",
       "        4.02106776e+01, -2.84959651e+02, -3.39247099e+00, -2.04557431e+02,\n",
       "       -1.77523529e+02, -2.38641377e+02,  5.14656107e+02,  2.96128042e+02,\n",
       "       -1.89883451e+02, -8.20811665e+01,  4.17042309e+02,  6.32293951e+01,\n",
       "        1.14245686e+02, -5.74729928e+02, -3.43050998e+02,  1.85549363e+02,\n",
       "        1.21893671e+02, -1.42392144e+02, -6.55564027e+01,  1.21351958e+02,\n",
       "       -2.56299298e+02,  5.47820890e+01,  5.83209389e+01,  8.96552954e+01,\n",
       "        1.01290010e+02, -3.94776234e+02,  5.74491576e+00,  3.19390583e+02,\n",
       "        7.00807603e+01,  2.65325094e+02, -1.72238159e+02, -3.67745929e+01,\n",
       "       -1.87944205e+01, -8.59670360e+01, -3.68100692e+02,  3.53999969e+01,\n",
       "        5.80276860e+00,  4.64371810e+01, -7.86722566e+01,  2.38454610e+02,\n",
       "        9.12634938e+00, -1.52208370e+02,  5.85194065e+01,  7.02586571e+01,\n",
       "        8.63668912e+01, -9.87600335e+01,  2.78476953e+02, -2.35846750e+02,\n",
       "       -2.08079605e+01, -9.93838285e+00,  1.05304684e+02, -2.08337441e+02,\n",
       "        2.50442975e+02,  2.76708835e+02,  2.66981161e+02,  1.21871669e+02,\n",
       "       -6.12490937e+01, -3.83437646e+02,  1.95458412e+02,  1.04907996e+02,\n",
       "        5.78822501e+01,  3.05658132e+02,  3.78230563e+02, -1.28169557e+02])"
      ]
     },
     "execution_count": 15,
     "metadata": {},
     "output_type": "execute_result"
    }
   ],
   "source": [
    "y_reg"
   ]
  },
  {
   "cell_type": "markdown",
   "metadata": {
    "id": "MzPDuq1zbvVN"
   },
   "source": [
    "📌 Q1-1.\n",
    "* classification 관련 코드를 참고하여 regression 부분의 각 빈칸을 채워주세요."
   ]
  },
  {
   "cell_type": "markdown",
   "metadata": {
    "id": "InsVxQYZT_lF"
   },
   "source": [
    "**1) Grid Search**\n",
    "* 참고: https://scikit-learn.org/stable/modules/generated/sklearn.model_selection.GridSearchCV.html"
   ]
  },
  {
   "cell_type": "code",
   "execution_count": 17,
   "metadata": {
    "colab": {
     "base_uri": "https://localhost:8080/"
    },
    "id": "Gohram6fTvsx",
    "outputId": "a2829272-0485-4de0-c862-1753f59661ce"
   },
   "outputs": [
    {
     "name": "stdout",
     "output_type": "stream",
     "text": [
      "Best parameters (classification): {'C': 1, 'kernel': 'rbf'}\n",
      "Classification Accuracy: 0.995\n"
     ]
    }
   ],
   "source": [
    "from sklearn.model_selection import GridSearchCV\n",
    "\n",
    "# Grid Search for Classification\n",
    "param_grid_cls = {'C': [0.1, 1, 10], 'kernel': ['linear', 'rbf']}\n",
    "\n",
    "grid_cls = GridSearchCV(\n",
    "    estimator=SVC(),\n",
    "    param_grid=param_grid_cls,\n",
    "    cv=3\n",
    ")\n",
    "\n",
    "grid_cls.fit(X_cls_train, y_cls_train)\n",
    "best_cls = grid_cls.best_estimator_\n",
    "print(\"Best parameters (classification):\", grid_cls.best_params_)\n",
    "\n",
    "y_cls_pred = best_cls.predict(X_cls_test)\n",
    "print(\"Classification Accuracy:\", accuracy_score(y_cls_test, y_cls_pred))"
   ]
  },
  {
   "cell_type": "code",
   "execution_count": 55,
   "metadata": {},
   "outputs": [],
   "source": [
    "import time"
   ]
  },
  {
   "cell_type": "code",
   "execution_count": 57,
   "metadata": {
    "colab": {
     "base_uri": "https://localhost:8080/"
    },
    "id": "uyojXRQQTy0z",
    "outputId": "641713fa-cdc0-42ad-ddc0-95a20545ab14"
   },
   "outputs": [
    {
     "name": "stdout",
     "output_type": "stream",
     "text": [
      "Best parameters (regression): {'C': 10, 'kernel': 'linear'}\n",
      "Regression MSE: 0.009701651756676416\n",
      "실행 시간: 3.596833 초\n"
     ]
    }
   ],
   "source": [
    "\n",
    "start_time=time.time()\n",
    "# Grid Search for Regression\n",
    "param_grid_reg = {'C': [0.1, 1, 10], 'kernel': ['linear', 'rbf']}\n",
    "\n",
    "grid_reg = GridSearchCV(\n",
    "    estimator=SVR(),\n",
    "    param_grid=param_grid_reg,\n",
    "    cv=3\n",
    ")\n",
    "\n",
    "grid_reg.fit(X_reg_train, y_reg_train)\n",
    "best_reg = grid_reg.best_estimator_\n",
    "print(\"Best parameters (regression):\", grid_reg.best_params_)\n",
    "\n",
    "y_reg_pred = best_reg.predict(X_reg_test)\n",
    "print(\"Regression MSE:\", mean_squared_error(y_reg_test, y_reg_pred))\n",
    "\n",
    "end_time=time.time()\n",
    "\n",
    "print(f\"실행 시간: {end_time - start_time:.6f} 초\")"
   ]
  },
  {
   "cell_type": "markdown",
   "metadata": {
    "id": "IcfjPwTUT8qp"
   },
   "source": [
    "**2) Random Search**\n",
    "* 참고: https://scikit-learn.org/stable/modules/generated/sklearn.model_selection.RandomizedSearchCV.html"
   ]
  },
  {
   "cell_type": "code",
   "execution_count": 21,
   "metadata": {
    "colab": {
     "base_uri": "https://localhost:8080/"
    },
    "id": "RkF3KJtnT4pL",
    "outputId": "a0ee149d-5484-4075-cfd6-5e4ef3fb5194"
   },
   "outputs": [
    {
     "name": "stdout",
     "output_type": "stream",
     "text": [
      "Best parameters (classification): {'kernel': 'rbf', 'C': 2.154434690031882}\n",
      "Classification Accuracy: 0.985\n"
     ]
    }
   ],
   "source": [
    "from sklearn.model_selection import RandomizedSearchCV\n",
    "\n",
    "# Random Search for Classification\n",
    "param_dist_cls = {'C': np.logspace(-3, 3, 10), 'kernel': ['linear', 'rbf']}\n",
    "\n",
    "random_cls = RandomizedSearchCV(\n",
    "    estimator=SVC(),\n",
    "    param_distributions=param_dist_cls,\n",
    "    n_iter=10,\n",
    "    cv=3,\n",
    "    random_state=42\n",
    ")\n",
    "\n",
    "random_cls.fit(X_cls_train, y_cls_train)\n",
    "best_cls = random_cls.best_estimator_\n",
    "print(\"Best parameters (classification):\", random_cls.best_params_)\n",
    "\n",
    "y_cls_pred = best_cls.predict(X_cls_test)\n",
    "print(\"Classification Accuracy:\", accuracy_score(y_cls_test, y_cls_pred))"
   ]
  },
  {
   "cell_type": "code",
   "execution_count": 59,
   "metadata": {
    "colab": {
     "base_uri": "https://localhost:8080/"
    },
    "id": "8B-mXKF4T7Eu",
    "outputId": "a6045202-598a-4a67-80e3-17377c3155b6"
   },
   "outputs": [
    {
     "name": "stdout",
     "output_type": "stream",
     "text": [
      "Best parameters (regression): {'kernel': 'linear', 'C': 1000.0}\n",
      "Regression MSE: 0.00980129546237293\n",
      "실행 시간: 344.188845 초\n"
     ]
    }
   ],
   "source": [
    "start_time=time.time()\n",
    "\n",
    "# Random Search for Regression\n",
    "param_dist_reg = {'C': np.logspace(-3, 3, 10), 'kernel': ['linear', 'rbf']}\n",
    "\n",
    "random_reg = RandomizedSearchCV(\n",
    "    estimator=SVR(),\n",
    "    param_distributions=param_dist_reg,\n",
    "    n_iter=10,\n",
    "    cv=3,\n",
    "    random_state=42\n",
    ")\n",
    "\n",
    "random_reg.fit(X_reg_train, y_reg_train)\n",
    "best_reg = random_reg.best_estimator_\n",
    "\n",
    "print(\"Best parameters (regression):\", random_reg.best_params_)\n",
    "y_reg_pred = best_reg.predict(X_reg_test)\n",
    "print(\"Regression MSE:\", mean_squared_error(y_reg_test, y_reg_pred))\n",
    "\n",
    "end_time=time.time()\n",
    "print(f\"실행 시간: {end_time - start_time:.6f} 초\")"
   ]
  },
  {
   "cell_type": "markdown",
   "metadata": {
    "id": "Wj04LVeWUDFy"
   },
   "source": [
    "**3) Bayesian Search**\n",
    "* 참고: https://scikit-optimize.github.io/stable/modules/generated/skopt.BayesSearchCV.html#skopt.BayesSearchCV"
   ]
  },
  {
   "cell_type": "code",
   "execution_count": 27,
   "metadata": {
    "colab": {
     "base_uri": "https://localhost:8080/"
    },
    "id": "kNbYdxrWXLcd",
    "outputId": "cf4811c7-ab64-4cd1-f163-baefbdedf798"
   },
   "outputs": [
    {
     "name": "stdout",
     "output_type": "stream",
     "text": [
      "Collecting scikit-optimize\n",
      "  Downloading scikit_optimize-0.10.2-py2.py3-none-any.whl.metadata (9.7 kB)\n",
      "Requirement already satisfied: joblib>=0.11 in c:\\users\\user\\anaconda_\\lib\\site-packages (from scikit-optimize) (1.4.0)\n",
      "Collecting pyaml>=16.9 (from scikit-optimize)\n",
      "  Downloading pyaml-25.1.0-py3-none-any.whl.metadata (12 kB)\n",
      "Requirement already satisfied: numpy>=1.20.3 in c:\\users\\user\\anaconda_\\lib\\site-packages (from scikit-optimize) (1.24.3)\n",
      "Requirement already satisfied: scipy>=1.1.0 in c:\\users\\user\\anaconda_\\lib\\site-packages (from scikit-optimize) (1.10.1)\n",
      "Requirement already satisfied: scikit-learn>=1.0.0 in c:\\users\\user\\anaconda_\\lib\\site-packages (from scikit-optimize) (1.3.0)\n",
      "Requirement already satisfied: packaging>=21.3 in c:\\users\\user\\anaconda_\\lib\\site-packages (from scikit-optimize) (23.2)\n",
      "Requirement already satisfied: PyYAML in c:\\users\\user\\anaconda_\\lib\\site-packages (from pyaml>=16.9->scikit-optimize) (6.0.1)\n",
      "Requirement already satisfied: threadpoolctl>=2.0.0 in c:\\users\\user\\anaconda_\\lib\\site-packages (from scikit-learn>=1.0.0->scikit-optimize) (2.2.0)\n",
      "Downloading scikit_optimize-0.10.2-py2.py3-none-any.whl (107 kB)\n",
      "   ---------------------------------------- 0.0/107.8 kB ? eta -:--:--\n",
      "   --------------- ------------------------ 41.0/107.8 kB 2.0 MB/s eta 0:00:01\n",
      "   ---------------------------------------- 107.8/107.8 kB 2.1 MB/s eta 0:00:00\n",
      "Downloading pyaml-25.1.0-py3-none-any.whl (26 kB)\n",
      "Installing collected packages: pyaml, scikit-optimize\n",
      "Successfully installed pyaml-25.1.0 scikit-optimize-0.10.2\n"
     ]
    }
   ],
   "source": [
    "!pip install scikit-optimize"
   ]
  },
  {
   "cell_type": "code",
   "execution_count": 29,
   "metadata": {
    "colab": {
     "base_uri": "https://localhost:8080/"
    },
    "id": "otQZ8MuSUGv6",
    "outputId": "f0c98d0b-b6c5-4296-a1ed-ea1ae7f3a7f5"
   },
   "outputs": [
    {
     "name": "stdout",
     "output_type": "stream",
     "text": [
      "Best parameters (classification): OrderedDict([('C', 5.0405293861834055), ('kernel', 'rbf')])\n",
      "Classification Accuracy: 0.98\n"
     ]
    }
   ],
   "source": [
    "from skopt import BayesSearchCV\n",
    "from skopt.space import Real, Categorical\n",
    "\n",
    "\n",
    "# Bayesian Search for Classification\n",
    "param_space_cls = {\n",
    "    'C': Real(1e-3, 1e3, prior='log-uniform'),\n",
    "    'kernel': Categorical(['linear', 'rbf']),\n",
    "}\n",
    "\n",
    "bayes_cls = BayesSearchCV(\n",
    "    estimator=SVC(),\n",
    "    search_spaces=param_space_cls,\n",
    "    n_iter=20,\n",
    "    cv=3,\n",
    "    random_state=42\n",
    ")\n",
    "bayes_cls.fit(X_cls_train, y_cls_train)\n",
    "\n",
    "print(\"Best parameters (classification):\", bayes_cls.best_params_)\n",
    "y_cls_pred = bayes_cls.best_estimator_.predict(X_cls_test)\n",
    "print(\"Classification Accuracy:\", accuracy_score(y_cls_test, y_cls_pred))"
   ]
  },
  {
   "cell_type": "code",
   "execution_count": 60,
   "metadata": {
    "colab": {
     "base_uri": "https://localhost:8080/"
    },
    "id": "WqmWF0WNUJT_",
    "outputId": "5d077c50-5615-4602-8030-e57b870b7b54"
   },
   "outputs": [
    {
     "name": "stdout",
     "output_type": "stream",
     "text": [
      "Best parameters (regression): OrderedDict([('C', 62.7076678988192), ('kernel', 'linear')])\n",
      "Regression MSE: 0.009774752388123576\n",
      "실행 시간: 33.681952 초\n"
     ]
    }
   ],
   "source": [
    "start_time=time.time()\n",
    "\n",
    "# Bayesian Search for Regression\n",
    "param_space_reg = {\n",
    "    'C': Real(1e-3, 1e3, prior='log-uniform'),\n",
    "    'kernel': Categorical(['linear', 'rbf']),\n",
    "}\n",
    "\n",
    "bayes_reg = BayesSearchCV(\n",
    "    estimator=SVR(),\n",
    "    search_spaces=param_space_reg,\n",
    "    n_iter=10,\n",
    "    cv=3,\n",
    "    random_state=42\n",
    ")\n",
    "bayes_reg.fit(X_reg_train, y_reg_train)\n",
    "\n",
    "print(\"Best parameters (regression):\", bayes_reg.best_params_)\n",
    "y_reg_pred = bayes_reg.best_estimator_.predict(X_reg_test)\n",
    "print(\"Regression MSE:\", mean_squared_error(y_reg_test, y_reg_pred))\n",
    "\n",
    "end_time=time.time()\n",
    "\n",
    "print(f\"실행 시간: {end_time - start_time:.6f} 초\")"
   ]
  },
  {
   "cell_type": "code",
   "execution_count": 49,
   "metadata": {},
   "outputs": [],
   "source": [
    "import matplotlib.pyplot as plt"
   ]
  },
  {
   "cell_type": "code",
   "execution_count": 51,
   "metadata": {},
   "outputs": [
    {
     "data": {
      "text/plain": [
       "[<matplotlib.lines.Line2D at 0x26834cbbc70>]"
      ]
     },
     "execution_count": 51,
     "metadata": {},
     "output_type": "execute_result"
    },
    {
     "data": {
      "image/png": "[encoded data removed]",
      "text/plain": [
       "<Figure size 640x480 with 1 Axes>"
      ]
     },
     "metadata": {},
     "output_type": "display_data"
    }
   ],
   "source": [
    "x=np.arange(len(y_reg_test))\n",
    "plt.plot(x,y_reg_test,marker='o', linestyle='-', color='b')"
   ]
  },
  {
   "cell_type": "markdown",
   "metadata": {
    "id": "5GHU3aPVePT_"
   },
   "source": [
    "📌 Q1-2. 세 가지 하이퍼파라미터 튜닝 방법의 결과가 동일하게 나왔는지 확인하고, 만약 다르다면 어떤 점에서 차이가 있었는지 서술하세요. 또한, 실행 시간과 성능 등을 고려했을 때 가장 효과적인 방법이 무엇인지 적어주세요.\n",
    "\n",
    "추가적으로, 각 방법의 특징과 원리를 설명하고, 장단점을 비교하여 정리해 주셔도 좋습니다!"
   ]
  },
  {
   "cell_type": "markdown",
   "metadata": {
    "id": "wziE8s-DKVnB"
   },
   "source": [
    "답안: 세 가지 하이퍼파라미터 튜닝 방법 모두 결과가 비슷하게 나왔지만 아무래도 grid_search 방법이 hyperparameter 수를 제한했기 때문에 똑같은 hyper parameter 범위에서는 grid search가 가장 성능이 나을 것이라고 생각한다. 하지만 실행시간 측면에서 grid_search방법을 진행했을 때에 시간이 굉장히 길어진다면 random_search와 bayesian_search를 비교해봐야한다. 실험에서도 봤듯이 random search처럼 무작위로 하이퍼파라미터를 설정하지 않고 전에 했던 hyperparameter의 튜닝 결과들을 바탕으로 hyperparameter를 설정하기 때문에 실행시간 측면에서 bayesian_search를 이용하는 것이 바람직해보인다."
   ]
  },
  {
   "cell_type": "markdown",
   "metadata": {
    "id": "SdsUxm8FZ5EU"
   },
   "source": [
    "## **Q2. airline passenger satisfaction survey 분석하기**\n",
    "\n",
    "- 아래 코드는 'airline passenger satisfaction survey' dataset을 분석하고, Random Froest 모델을 학습시켜 성능을 평가합니다.\n",
    "- 세션에서 배운 Normalization, Cross-validation, Confusion Matrix 등의 개념이 포함되어 있습니다.\n",
    "- 과정을 천천히 따라오면서 답안을 작성해주세요!"
   ]
  },
  {
   "cell_type": "markdown",
   "metadata": {
    "id": "ptVAH_K1aMBj"
   },
   "source": [
    "**1) Data description**"
   ]
  },
  {
   "cell_type": "code",
   "execution_count": 70,
   "metadata": {
    "id": "FGi_G99ZaLV0"
   },
   "outputs": [],
   "source": [
    "import seaborn as sns\n",
    "import matplotlib.pyplot as plt\n",
    "import pandas as pd\n",
    "import numpy as np\n",
    "from sklearn.preprocessing import LabelEncoder, OneHotEncoder, StandardScaler\n",
    "from sklearn.model_selection import train_test_split\n",
    "from sklearn.impute import SimpleImputer\n",
    "from sklearn.svm import SVC\n",
    "from sklearn.metrics import accuracy_score, confusion_matrix, classification_report, ConfusionMatrixDisplay, roc_curve, roc_auc_score\n",
    "import numpy as np\n",
    "from sklearn.model_selection import GridSearchCV\n",
    "from sklearn.feature_selection import RFECV\n",
    "from sklearn.linear_model import LogisticRegression\n",
    "from sklearn.tree import DecisionTreeClassifier\n",
    "from sklearn.model_selection import cross_val_score, KFold\n",
    "from sklearn.ensemble import RandomForestClassifier"
   ]
  },
  {
   "cell_type": "code",
   "execution_count": 244,
   "metadata": {
    "colab": {
     "base_uri": "https://localhost:8080/",
     "height": 394
    },
    "id": "O7Bx7IHzal1T",
    "outputId": "ae8a3f73-df83-4500-dc8f-05a2df336cf6"
   },
   "outputs": [
    {
     "data": {
      "text/html": [
       "<div>\n",
       "<style scoped>\n",
       "    .dataframe tbody tr th:only-of-type {\n",
       "        vertical-align: middle;\n",
       "    }\n",
       "\n",
       "    .dataframe tbody tr th {\n",
       "        vertical-align: top;\n",
       "    }\n",
       "\n",
       "    .dataframe thead th {\n",
       "        text-align: right;\n",
       "    }\n",
       "</style>\n",
       "<table border=\"1\" class=\"dataframe\">\n",
       "  <thead>\n",
       "    <tr style=\"text-align: right;\">\n",
       "      <th></th>\n",
       "      <th>Unnamed: 0</th>\n",
       "      <th>id</th>\n",
       "      <th>Gender</th>\n",
       "      <th>Customer Type</th>\n",
       "      <th>Age</th>\n",
       "      <th>Type of Travel</th>\n",
       "      <th>Class</th>\n",
       "      <th>Flight Distance</th>\n",
       "      <th>Inflight wifi service</th>\n",
       "      <th>Departure/Arrival time convenient</th>\n",
       "      <th>...</th>\n",
       "      <th>Inflight entertainment</th>\n",
       "      <th>On-board service</th>\n",
       "      <th>Leg room service</th>\n",
       "      <th>Baggage handling</th>\n",
       "      <th>Checkin service</th>\n",
       "      <th>Inflight service</th>\n",
       "      <th>Cleanliness</th>\n",
       "      <th>Departure Delay in Minutes</th>\n",
       "      <th>Arrival Delay in Minutes</th>\n",
       "      <th>satisfaction</th>\n",
       "    </tr>\n",
       "  </thead>\n",
       "  <tbody>\n",
       "    <tr>\n",
       "      <th>0</th>\n",
       "      <td>0</td>\n",
       "      <td>70172</td>\n",
       "      <td>Male</td>\n",
       "      <td>Loyal Customer</td>\n",
       "      <td>13</td>\n",
       "      <td>Personal Travel</td>\n",
       "      <td>Eco Plus</td>\n",
       "      <td>460</td>\n",
       "      <td>3</td>\n",
       "      <td>4</td>\n",
       "      <td>...</td>\n",
       "      <td>5</td>\n",
       "      <td>4</td>\n",
       "      <td>3</td>\n",
       "      <td>4</td>\n",
       "      <td>4</td>\n",
       "      <td>5</td>\n",
       "      <td>5</td>\n",
       "      <td>25</td>\n",
       "      <td>18.0</td>\n",
       "      <td>neutral or dissatisfied</td>\n",
       "    </tr>\n",
       "    <tr>\n",
       "      <th>1</th>\n",
       "      <td>1</td>\n",
       "      <td>5047</td>\n",
       "      <td>Male</td>\n",
       "      <td>disloyal Customer</td>\n",
       "      <td>25</td>\n",
       "      <td>Business travel</td>\n",
       "      <td>Business</td>\n",
       "      <td>235</td>\n",
       "      <td>3</td>\n",
       "      <td>2</td>\n",
       "      <td>...</td>\n",
       "      <td>1</td>\n",
       "      <td>1</td>\n",
       "      <td>5</td>\n",
       "      <td>3</td>\n",
       "      <td>1</td>\n",
       "      <td>4</td>\n",
       "      <td>1</td>\n",
       "      <td>1</td>\n",
       "      <td>6.0</td>\n",
       "      <td>neutral or dissatisfied</td>\n",
       "    </tr>\n",
       "    <tr>\n",
       "      <th>2</th>\n",
       "      <td>2</td>\n",
       "      <td>110028</td>\n",
       "      <td>Female</td>\n",
       "      <td>Loyal Customer</td>\n",
       "      <td>26</td>\n",
       "      <td>Business travel</td>\n",
       "      <td>Business</td>\n",
       "      <td>1142</td>\n",
       "      <td>2</td>\n",
       "      <td>2</td>\n",
       "      <td>...</td>\n",
       "      <td>5</td>\n",
       "      <td>4</td>\n",
       "      <td>3</td>\n",
       "      <td>4</td>\n",
       "      <td>4</td>\n",
       "      <td>4</td>\n",
       "      <td>5</td>\n",
       "      <td>0</td>\n",
       "      <td>0.0</td>\n",
       "      <td>satisfied</td>\n",
       "    </tr>\n",
       "    <tr>\n",
       "      <th>3</th>\n",
       "      <td>3</td>\n",
       "      <td>24026</td>\n",
       "      <td>Female</td>\n",
       "      <td>Loyal Customer</td>\n",
       "      <td>25</td>\n",
       "      <td>Business travel</td>\n",
       "      <td>Business</td>\n",
       "      <td>562</td>\n",
       "      <td>2</td>\n",
       "      <td>5</td>\n",
       "      <td>...</td>\n",
       "      <td>2</td>\n",
       "      <td>2</td>\n",
       "      <td>5</td>\n",
       "      <td>3</td>\n",
       "      <td>1</td>\n",
       "      <td>4</td>\n",
       "      <td>2</td>\n",
       "      <td>11</td>\n",
       "      <td>9.0</td>\n",
       "      <td>neutral or dissatisfied</td>\n",
       "    </tr>\n",
       "    <tr>\n",
       "      <th>4</th>\n",
       "      <td>4</td>\n",
       "      <td>119299</td>\n",
       "      <td>Male</td>\n",
       "      <td>Loyal Customer</td>\n",
       "      <td>61</td>\n",
       "      <td>Business travel</td>\n",
       "      <td>Business</td>\n",
       "      <td>214</td>\n",
       "      <td>3</td>\n",
       "      <td>3</td>\n",
       "      <td>...</td>\n",
       "      <td>3</td>\n",
       "      <td>3</td>\n",
       "      <td>4</td>\n",
       "      <td>4</td>\n",
       "      <td>3</td>\n",
       "      <td>3</td>\n",
       "      <td>3</td>\n",
       "      <td>0</td>\n",
       "      <td>0.0</td>\n",
       "      <td>satisfied</td>\n",
       "    </tr>\n",
       "  </tbody>\n",
       "</table>\n",
       "<p>5 rows × 25 columns</p>\n",
       "</div>"
      ],
      "text/plain": [
       "   Unnamed: 0      id  Gender      Customer Type  Age   Type of Travel  \\\n",
       "0           0   70172    Male     Loyal Customer   13  Personal Travel   \n",
       "1           1    5047    Male  disloyal Customer   25  Business travel   \n",
       "2           2  110028  Female     Loyal Customer   26  Business travel   \n",
       "3           3   24026  Female     Loyal Customer   25  Business travel   \n",
       "4           4  119299    Male     Loyal Customer   61  Business travel   \n",
       "\n",
       "      Class  Flight Distance  Inflight wifi service  \\\n",
       "0  Eco Plus              460                      3   \n",
       "1  Business              235                      3   \n",
       "2  Business             1142                      2   \n",
       "3  Business              562                      2   \n",
       "4  Business              214                      3   \n",
       "\n",
       "   Departure/Arrival time convenient  ...  Inflight entertainment  \\\n",
       "0                                  4  ...                       5   \n",
       "1                                  2  ...                       1   \n",
       "2                                  2  ...                       5   \n",
       "3                                  5  ...                       2   \n",
       "4                                  3  ...                       3   \n",
       "\n",
       "   On-board service  Leg room service  Baggage handling  Checkin service  \\\n",
       "0                 4                 3                 4                4   \n",
       "1                 1                 5                 3                1   \n",
       "2                 4                 3                 4                4   \n",
       "3                 2                 5                 3                1   \n",
       "4                 3                 4                 4                3   \n",
       "\n",
       "   Inflight service  Cleanliness  Departure Delay in Minutes  \\\n",
       "0                 5            5                          25   \n",
       "1                 4            1                           1   \n",
       "2                 4            5                           0   \n",
       "3                 4            2                          11   \n",
       "4                 3            3                           0   \n",
       "\n",
       "   Arrival Delay in Minutes             satisfaction  \n",
       "0                      18.0  neutral or dissatisfied  \n",
       "1                       6.0  neutral or dissatisfied  \n",
       "2                       0.0                satisfied  \n",
       "3                       9.0  neutral or dissatisfied  \n",
       "4                       0.0                satisfied  \n",
       "\n",
       "[5 rows x 25 columns]"
      ]
     },
     "execution_count": 244,
     "metadata": {},
     "output_type": "execute_result"
    }
   ],
   "source": [
    "# 본인 데이터 저장 경로에 맞춰 수정하기\n",
    "\n",
    "data = pd.read_csv(\"C:/Users/USER/투빅스/2주차/airline passenger satisfaction.csv\")\n",
    "data.head()"
   ]
  },
  {
   "cell_type": "code",
   "execution_count": 245,
   "metadata": {
    "colab": {
     "base_uri": "https://localhost:8080/"
    },
    "id": "VfAXe9u1abDE",
    "outputId": "cc7a326a-98ab-46f4-d2e6-4682b15903d3"
   },
   "outputs": [
    {
     "data": {
      "text/plain": [
       "(103904, 25)"
      ]
     },
     "execution_count": 245,
     "metadata": {},
     "output_type": "execute_result"
    }
   ],
   "source": [
    "data.shape"
   ]
  },
  {
   "cell_type": "code",
   "execution_count": 248,
   "metadata": {
    "colab": {
     "base_uri": "https://localhost:8080/"
    },
    "id": "LKm7wWJsd2Vg",
    "outputId": "a7ae3631-782d-4ef6-febe-86f4aa4269b2"
   },
   "outputs": [
    {
     "data": {
      "text/plain": [
       "Index(['Unnamed: 0', 'id', 'Gender', 'Customer Type', 'Age', 'Type of Travel',\n",
       "       'Class', 'Flight Distance', 'Inflight wifi service',\n",
       "       'Departure/Arrival time convenient', 'Ease of Online booking',\n",
       "       'Gate location', 'Food and drink', 'Online boarding', 'Seat comfort',\n",
       "       'Inflight entertainment', 'On-board service', 'Leg room service',\n",
       "       'Baggage handling', 'Checkin service', 'Inflight service',\n",
       "       'Cleanliness', 'Departure Delay in Minutes', 'Arrival Delay in Minutes',\n",
       "       'satisfaction'],\n",
       "      dtype='object')"
      ]
     },
     "execution_count": 248,
     "metadata": {},
     "output_type": "execute_result"
    }
   ],
   "source": [
    "data.columns"
   ]
  },
  {
   "cell_type": "code",
   "execution_count": 250,
   "metadata": {
    "colab": {
     "base_uri": "https://localhost:8080/"
    },
    "id": "JmzzWRDTemRq",
    "outputId": "60bed2ce-9fa6-4674-e176-c3504218474a"
   },
   "outputs": [
    {
     "name": "stdout",
     "output_type": "stream",
     "text": [
      "<class 'pandas.core.frame.DataFrame'>\n",
      "RangeIndex: 103904 entries, 0 to 103903\n",
      "Data columns (total 25 columns):\n",
      " #   Column                             Non-Null Count   Dtype  \n",
      "---  ------                             --------------   -----  \n",
      " 0   Unnamed: 0                         103904 non-null  int64  \n",
      " 1   id                                 103904 non-null  int64  \n",
      " 2   Gender                             103904 non-null  object \n",
      " 3   Customer Type                      103904 non-null  object \n",
      " 4   Age                                103904 non-null  int64  \n",
      " 5   Type of Travel                     103904 non-null  object \n",
      " 6   Class                              103904 non-null  object \n",
      " 7   Flight Distance                    103904 non-null  int64  \n",
      " 8   Inflight wifi service              103904 non-null  int64  \n",
      " 9   Departure/Arrival time convenient  103904 non-null  int64  \n",
      " 10  Ease of Online booking             103904 non-null  int64  \n",
      " 11  Gate location                      103904 non-null  int64  \n",
      " 12  Food and drink                     103904 non-null  int64  \n",
      " 13  Online boarding                    103904 non-null  int64  \n",
      " 14  Seat comfort                       103904 non-null  int64  \n",
      " 15  Inflight entertainment             103904 non-null  int64  \n",
      " 16  On-board service                   103904 non-null  int64  \n",
      " 17  Leg room service                   103904 non-null  int64  \n",
      " 18  Baggage handling                   103904 non-null  int64  \n",
      " 19  Checkin service                    103904 non-null  int64  \n",
      " 20  Inflight service                   103904 non-null  int64  \n",
      " 21  Cleanliness                        103904 non-null  int64  \n",
      " 22  Departure Delay in Minutes         103904 non-null  int64  \n",
      " 23  Arrival Delay in Minutes           103594 non-null  float64\n",
      " 24  satisfaction                       103904 non-null  object \n",
      "dtypes: float64(1), int64(19), object(5)\n",
      "memory usage: 19.8+ MB\n"
     ]
    }
   ],
   "source": [
    "data.info()"
   ]
  },
  {
   "cell_type": "code",
   "execution_count": 252,
   "metadata": {
    "colab": {
     "base_uri": "https://localhost:8080/",
     "height": 868
    },
    "id": "zkhvI58Xguy1",
    "outputId": "f11b23dc-8b82-4510-8ce9-5e1a59568078"
   },
   "outputs": [
    {
     "data": {
      "text/plain": [
       "Unnamed: 0                           103904\n",
       "id                                   103904\n",
       "Gender                                    2\n",
       "Customer Type                             2\n",
       "Age                                      75\n",
       "Type of Travel                            2\n",
       "Class                                     3\n",
       "Flight Distance                        3802\n",
       "Inflight wifi service                     6\n",
       "Departure/Arrival time convenient         6\n",
       "Ease of Online booking                    6\n",
       "Gate location                             6\n",
       "Food and drink                            6\n",
       "Online boarding                           6\n",
       "Seat comfort                              6\n",
       "Inflight entertainment                    6\n",
       "On-board service                          6\n",
       "Leg room service                          6\n",
       "Baggage handling                          5\n",
       "Checkin service                           6\n",
       "Inflight service                          6\n",
       "Cleanliness                               6\n",
       "Departure Delay in Minutes              446\n",
       "Arrival Delay in Minutes                455\n",
       "satisfaction                              2\n",
       "dtype: int64"
      ]
     },
     "execution_count": 252,
     "metadata": {},
     "output_type": "execute_result"
    }
   ],
   "source": [
    "# 각 column 별로 고유한 값의 개수 확인\n",
    "data.nunique()"
   ]
  },
  {
   "cell_type": "code",
   "execution_count": 254,
   "metadata": {
    "colab": {
     "base_uri": "https://localhost:8080/",
     "height": 868
    },
    "id": "Lnn64Mgyfkux",
    "outputId": "831f6468-6484-4420-a3a3-fd6aa776983f"
   },
   "outputs": [
    {
     "data": {
      "text/plain": [
       "Unnamed: 0                             0\n",
       "id                                     0\n",
       "Gender                                 0\n",
       "Customer Type                          0\n",
       "Age                                    0\n",
       "Type of Travel                         0\n",
       "Class                                  0\n",
       "Flight Distance                        0\n",
       "Inflight wifi service                  0\n",
       "Departure/Arrival time convenient      0\n",
       "Ease of Online booking                 0\n",
       "Gate location                          0\n",
       "Food and drink                         0\n",
       "Online boarding                        0\n",
       "Seat comfort                           0\n",
       "Inflight entertainment                 0\n",
       "On-board service                       0\n",
       "Leg room service                       0\n",
       "Baggage handling                       0\n",
       "Checkin service                        0\n",
       "Inflight service                       0\n",
       "Cleanliness                            0\n",
       "Departure Delay in Minutes             0\n",
       "Arrival Delay in Minutes             310\n",
       "satisfaction                           0\n",
       "dtype: int64"
      ]
     },
     "execution_count": 254,
     "metadata": {},
     "output_type": "execute_result"
    }
   ],
   "source": [
    "# 결측값 확인\n",
    "data.isnull().sum()"
   ]
  },
  {
   "cell_type": "code",
   "execution_count": 256,
   "metadata": {
    "colab": {
     "base_uri": "https://localhost:8080/"
    },
    "id": "QD7OOUWte_JE",
    "outputId": "902e478b-f791-485a-fe68-097527e8523d"
   },
   "outputs": [
    {
     "name": "stdout",
     "output_type": "stream",
     "text": [
      "['neutral or dissatisfied', 'satisfied']\n",
      "Number of neutral or dissatisfied: 58879\n",
      "Number of satisfied: 45025\n"
     ]
    }
   ],
   "source": [
    "# y값으로 지정할 'satisfactions' 변수 확인\n",
    "satisfactions = data.satisfaction.unique().tolist()\n",
    "print(satisfactions)\n",
    "print(\"Number of neutral or dissatisfied: {}\".format(data[data.satisfaction == 'neutral or dissatisfied'].shape[0]))\n",
    "print(\"Number of satisfied: {}\".format(data[data.satisfaction == 'satisfied'].shape[0]))"
   ]
  },
  {
   "cell_type": "markdown",
   "metadata": {
    "id": "Z3__veePfSFh"
   },
   "source": [
    "**2) Preprocessing**"
   ]
  },
  {
   "cell_type": "code",
   "execution_count": 259,
   "metadata": {
    "id": "IfVqg5o6fMfO"
   },
   "outputs": [],
   "source": [
    "# Uninformative Variables 삭제하기\n",
    "data = data.drop('Unnamed: 0', axis=1)\n",
    "data = data.drop('id', axis=1)\n",
    "\n",
    "# 'Arrival Delay in Minutes' 열 결측값 채우기\n",
    "imp = SimpleImputer(strategy='median')\n",
    "data[['Arrival Delay in Minutes']] = imp.fit_transform(data[['Arrival Delay in Minutes']])"
   ]
  },
  {
   "cell_type": "markdown",
   "metadata": {
    "id": "imum9_byfwIX"
   },
   "source": [
    "📌 Q2-1. Encoding\n",
    "* 분석을 위해 범주형 변수들은 모두 Encoding을 해주어야 합니다.\n",
    "* 'Gender' 열 encoding을 참고하여 나머지 변수들을 Encoding해주세요.\n",
    "* Hint: 위의 코드를 참고하여 범주형 변수가 무엇인지 확인하고, 열에서 고유한 값이 2개이면 label encoder, 3개 이상이면 onehot encoder를 사용해보세요.\n",
    "* 참고: https://scikit-learn.org/stable/modules/generated/sklearn.preprocessing.LabelEncoder.html#sklearn.preprocessing.LabelEncoder\n",
    "* 참고: https://scikit-learn.org/stable/modules/generated/sklearn.preprocessing.OneHotEncoder.html"
   ]
  },
  {
   "cell_type": "code",
   "execution_count": 262,
   "metadata": {
    "colab": {
     "base_uri": "https://localhost:8080/",
     "height": 178
    },
    "id": "FCwmmNJzfrkS",
    "outputId": "43937e9b-2b93-4030-8ae3-6e5844aed348"
   },
   "outputs": [
    {
     "data": {
      "text/plain": [
       "Gender\n",
       "Female    52727\n",
       "Male      51177\n",
       "Name: count, dtype: int64"
      ]
     },
     "execution_count": 262,
     "metadata": {},
     "output_type": "execute_result"
    }
   ],
   "source": [
    "# 'Gender' 열 encoding\n",
    "data['Gender'].value_counts()"
   ]
  },
  {
   "cell_type": "code",
   "execution_count": 264,
   "metadata": {
    "colab": {
     "base_uri": "https://localhost:8080/"
    },
    "id": "lrYqwjfDgCsC",
    "outputId": "df6c8752-31e7-427c-f72b-74358448878c"
   },
   "outputs": [
    {
     "name": "stdout",
     "output_type": "stream",
     "text": [
      "Classes: ['Female' 'Male']\n"
     ]
    }
   ],
   "source": [
    "encoder = LabelEncoder()\n",
    "data['Gender'] = encoder.fit_transform(data['Gender'])\n",
    "print(\"Classes:\", encoder.classes_)"
   ]
  },
  {
   "cell_type": "code",
   "execution_count": 266,
   "metadata": {},
   "outputs": [
    {
     "data": {
      "text/html": [
       "<div>\n",
       "<style scoped>\n",
       "    .dataframe tbody tr th:only-of-type {\n",
       "        vertical-align: middle;\n",
       "    }\n",
       "\n",
       "    .dataframe tbody tr th {\n",
       "        vertical-align: top;\n",
       "    }\n",
       "\n",
       "    .dataframe thead th {\n",
       "        text-align: right;\n",
       "    }\n",
       "</style>\n",
       "<table border=\"1\" class=\"dataframe\">\n",
       "  <thead>\n",
       "    <tr style=\"text-align: right;\">\n",
       "      <th></th>\n",
       "      <th>Gender</th>\n",
       "      <th>Customer Type</th>\n",
       "      <th>Age</th>\n",
       "      <th>Type of Travel</th>\n",
       "      <th>Class</th>\n",
       "      <th>Flight Distance</th>\n",
       "      <th>Inflight wifi service</th>\n",
       "      <th>Departure/Arrival time convenient</th>\n",
       "      <th>Ease of Online booking</th>\n",
       "      <th>Gate location</th>\n",
       "      <th>...</th>\n",
       "      <th>Inflight entertainment</th>\n",
       "      <th>On-board service</th>\n",
       "      <th>Leg room service</th>\n",
       "      <th>Baggage handling</th>\n",
       "      <th>Checkin service</th>\n",
       "      <th>Inflight service</th>\n",
       "      <th>Cleanliness</th>\n",
       "      <th>Departure Delay in Minutes</th>\n",
       "      <th>Arrival Delay in Minutes</th>\n",
       "      <th>satisfaction</th>\n",
       "    </tr>\n",
       "  </thead>\n",
       "  <tbody>\n",
       "    <tr>\n",
       "      <th>0</th>\n",
       "      <td>1</td>\n",
       "      <td>Loyal Customer</td>\n",
       "      <td>13</td>\n",
       "      <td>Personal Travel</td>\n",
       "      <td>Eco Plus</td>\n",
       "      <td>460</td>\n",
       "      <td>3</td>\n",
       "      <td>4</td>\n",
       "      <td>3</td>\n",
       "      <td>1</td>\n",
       "      <td>...</td>\n",
       "      <td>5</td>\n",
       "      <td>4</td>\n",
       "      <td>3</td>\n",
       "      <td>4</td>\n",
       "      <td>4</td>\n",
       "      <td>5</td>\n",
       "      <td>5</td>\n",
       "      <td>25</td>\n",
       "      <td>18.0</td>\n",
       "      <td>neutral or dissatisfied</td>\n",
       "    </tr>\n",
       "    <tr>\n",
       "      <th>1</th>\n",
       "      <td>1</td>\n",
       "      <td>disloyal Customer</td>\n",
       "      <td>25</td>\n",
       "      <td>Business travel</td>\n",
       "      <td>Business</td>\n",
       "      <td>235</td>\n",
       "      <td>3</td>\n",
       "      <td>2</td>\n",
       "      <td>3</td>\n",
       "      <td>3</td>\n",
       "      <td>...</td>\n",
       "      <td>1</td>\n",
       "      <td>1</td>\n",
       "      <td>5</td>\n",
       "      <td>3</td>\n",
       "      <td>1</td>\n",
       "      <td>4</td>\n",
       "      <td>1</td>\n",
       "      <td>1</td>\n",
       "      <td>6.0</td>\n",
       "      <td>neutral or dissatisfied</td>\n",
       "    </tr>\n",
       "    <tr>\n",
       "      <th>2</th>\n",
       "      <td>0</td>\n",
       "      <td>Loyal Customer</td>\n",
       "      <td>26</td>\n",
       "      <td>Business travel</td>\n",
       "      <td>Business</td>\n",
       "      <td>1142</td>\n",
       "      <td>2</td>\n",
       "      <td>2</td>\n",
       "      <td>2</td>\n",
       "      <td>2</td>\n",
       "      <td>...</td>\n",
       "      <td>5</td>\n",
       "      <td>4</td>\n",
       "      <td>3</td>\n",
       "      <td>4</td>\n",
       "      <td>4</td>\n",
       "      <td>4</td>\n",
       "      <td>5</td>\n",
       "      <td>0</td>\n",
       "      <td>0.0</td>\n",
       "      <td>satisfied</td>\n",
       "    </tr>\n",
       "    <tr>\n",
       "      <th>3</th>\n",
       "      <td>0</td>\n",
       "      <td>Loyal Customer</td>\n",
       "      <td>25</td>\n",
       "      <td>Business travel</td>\n",
       "      <td>Business</td>\n",
       "      <td>562</td>\n",
       "      <td>2</td>\n",
       "      <td>5</td>\n",
       "      <td>5</td>\n",
       "      <td>5</td>\n",
       "      <td>...</td>\n",
       "      <td>2</td>\n",
       "      <td>2</td>\n",
       "      <td>5</td>\n",
       "      <td>3</td>\n",
       "      <td>1</td>\n",
       "      <td>4</td>\n",
       "      <td>2</td>\n",
       "      <td>11</td>\n",
       "      <td>9.0</td>\n",
       "      <td>neutral or dissatisfied</td>\n",
       "    </tr>\n",
       "    <tr>\n",
       "      <th>4</th>\n",
       "      <td>1</td>\n",
       "      <td>Loyal Customer</td>\n",
       "      <td>61</td>\n",
       "      <td>Business travel</td>\n",
       "      <td>Business</td>\n",
       "      <td>214</td>\n",
       "      <td>3</td>\n",
       "      <td>3</td>\n",
       "      <td>3</td>\n",
       "      <td>3</td>\n",
       "      <td>...</td>\n",
       "      <td>3</td>\n",
       "      <td>3</td>\n",
       "      <td>4</td>\n",
       "      <td>4</td>\n",
       "      <td>3</td>\n",
       "      <td>3</td>\n",
       "      <td>3</td>\n",
       "      <td>0</td>\n",
       "      <td>0.0</td>\n",
       "      <td>satisfied</td>\n",
       "    </tr>\n",
       "  </tbody>\n",
       "</table>\n",
       "<p>5 rows × 23 columns</p>\n",
       "</div>"
      ],
      "text/plain": [
       "   Gender      Customer Type  Age   Type of Travel     Class  Flight Distance  \\\n",
       "0       1     Loyal Customer   13  Personal Travel  Eco Plus              460   \n",
       "1       1  disloyal Customer   25  Business travel  Business              235   \n",
       "2       0     Loyal Customer   26  Business travel  Business             1142   \n",
       "3       0     Loyal Customer   25  Business travel  Business              562   \n",
       "4       1     Loyal Customer   61  Business travel  Business              214   \n",
       "\n",
       "   Inflight wifi service  Departure/Arrival time convenient  \\\n",
       "0                      3                                  4   \n",
       "1                      3                                  2   \n",
       "2                      2                                  2   \n",
       "3                      2                                  5   \n",
       "4                      3                                  3   \n",
       "\n",
       "   Ease of Online booking  Gate location  ...  Inflight entertainment  \\\n",
       "0                       3              1  ...                       5   \n",
       "1                       3              3  ...                       1   \n",
       "2                       2              2  ...                       5   \n",
       "3                       5              5  ...                       2   \n",
       "4                       3              3  ...                       3   \n",
       "\n",
       "   On-board service  Leg room service  Baggage handling  Checkin service  \\\n",
       "0                 4                 3                 4                4   \n",
       "1                 1                 5                 3                1   \n",
       "2                 4                 3                 4                4   \n",
       "3                 2                 5                 3                1   \n",
       "4                 3                 4                 4                3   \n",
       "\n",
       "   Inflight service  Cleanliness  Departure Delay in Minutes  \\\n",
       "0                 5            5                          25   \n",
       "1                 4            1                           1   \n",
       "2                 4            5                           0   \n",
       "3                 4            2                          11   \n",
       "4                 3            3                           0   \n",
       "\n",
       "   Arrival Delay in Minutes             satisfaction  \n",
       "0                      18.0  neutral or dissatisfied  \n",
       "1                       6.0  neutral or dissatisfied  \n",
       "2                       0.0                satisfied  \n",
       "3                       9.0  neutral or dissatisfied  \n",
       "4                       0.0                satisfied  \n",
       "\n",
       "[5 rows x 23 columns]"
      ]
     },
     "execution_count": 266,
     "metadata": {},
     "output_type": "execute_result"
    }
   ],
   "source": [
    "data.head()"
   ]
  },
  {
   "cell_type": "code",
   "execution_count": 268,
   "metadata": {
    "id": "j8NeAmH_Ygp2"
   },
   "outputs": [
    {
     "data": {
      "text/plain": [
       "2"
      ]
     },
     "execution_count": 268,
     "metadata": {},
     "output_type": "execute_result"
    }
   ],
   "source": [
    "data['Gender'].nunique()"
   ]
  },
  {
   "cell_type": "markdown",
   "metadata": {},
   "source": [
    "data.nunique()를 통해 확인한 각각의 열에 대한 변수 종류 갯수와 data.head()를 통해 살펴본 실제 데이터의 내용을 바탕으로 범주형 범수를 추려낸다.\n",
    "\n",
    "범주형 변수 2개인 경우(gender 제외) : Customer Type, Type of Travel, satisfaction\n",
    "범주형 변수 3개 이상인 경우 : Class, Inflight wifi service, Departure/Arrival time convenient, Ease of Online booking, Gate location, Food and drink, Online boarding, Seat comfort, Inflight entertainment, On-board service, Leg room service, Baggage handling, Checkin service, Inflight service, Cleanliness"
   ]
  },
  {
   "cell_type": "code",
   "execution_count": 271,
   "metadata": {},
   "outputs": [],
   "source": [
    "encoder_L = LabelEncoder()\n",
    "encoder_H = OneHotEncoder(sparse_output=False)"
   ]
  },
  {
   "cell_type": "code",
   "execution_count": 273,
   "metadata": {},
   "outputs": [
    {
     "name": "stdout",
     "output_type": "stream",
     "text": [
      "Classes_Customer Type : ['Loyal Customer' 'disloyal Customer']\n",
      "Classes_Type of Travel : ['Business travel' 'Personal Travel']\n",
      "Classes_satisfaction : ['neutral or dissatisfied' 'satisfied']\n",
      "Classes_Class : [array(['Business', 'Eco', 'Eco Plus'], dtype=object)]\n",
      "Classes_Inflight wifi service : [array([0, 1, 2, 3, 4, 5], dtype=int64)]\n",
      "Classes_Departure/Arrival time convenient : [array([0, 1, 2, 3, 4, 5], dtype=int64)]\n",
      "Classes_Ease of Online booking : [array([0, 1, 2, 3, 4, 5], dtype=int64)]\n",
      "Classes_Gate location : [array([0, 1, 2, 3, 4, 5], dtype=int64)]\n",
      "Classes_Food and drink : [array([0, 1, 2, 3, 4, 5], dtype=int64)]\n",
      "Classes_Online boarding : [array([0, 1, 2, 3, 4, 5], dtype=int64)]\n",
      "Classes_Seat comfort : [array([0, 1, 2, 3, 4, 5], dtype=int64)]\n",
      "Classes_Inflight entertainment : [array([0, 1, 2, 3, 4, 5], dtype=int64)]\n",
      "Classes_On-board service : [array([0, 1, 2, 3, 4, 5], dtype=int64)]\n",
      "Classes_Leg room service : [array([0, 1, 2, 3, 4, 5], dtype=int64)]\n",
      "Classes_Baggage handling : [array([1, 2, 3, 4, 5], dtype=int64)]\n",
      "Classes_Checkin service : [array([0, 1, 2, 3, 4, 5], dtype=int64)]\n",
      "Classes_Inflight service : [array([0, 1, 2, 3, 4, 5], dtype=int64)]\n",
      "Classes_Cleanliness : [array([0, 1, 2, 3, 4, 5], dtype=int64)]\n"
     ]
    }
   ],
   "source": [
    "list=[\"Customer Type\", \"Type of Travel\", \"satisfaction\", \"Class\", \"Inflight wifi service\", \"Departure/Arrival time convenient\", \"Ease of Online booking\", \"Gate location\", \"Food and drink\", \"Online boarding\", \"Seat comfort\", \"Inflight entertainment\", \n",
    "\"On-board service\", \"Leg room service\", \"Baggage handling\", \"Checkin service\", \"Inflight service\", \"Cleanliness\"]\n",
    "\n",
    "for i in list:\n",
    "    if data[i].nunique()==2:\n",
    "        data[i]=encoder_L.fit_transform(data[i])\n",
    "        print(f\"Classes_{i} : {encoder_L.classes_}\")\n",
    "    else:\n",
    "        encoded_array = encoder_H.fit_transform(data[[i]])  # 2D DataFrame 전달\n",
    "\n",
    "        # One-Hot Encoding된 데이터를 새로운 DataFrame으로 변환\n",
    "        encoded_df = pd.DataFrame(encoded_array, columns=encoder_H.get_feature_names_out([i]))\n",
    "\n",
    "        # 기존 컬럼 제거 후 새로운 컬럼 추가\n",
    "        data = data.drop(columns=[i]).join(encoded_df)\n",
    "        print(f\"Classes_{i} : {encoder_H.categories_}\")"
   ]
  },
  {
   "cell_type": "markdown",
   "metadata": {
    "id": "5LIIGUgRiu5A"
   },
   "source": [
    "Train-Test split"
   ]
  },
  {
   "cell_type": "code",
   "execution_count": 275,
   "metadata": {},
   "outputs": [
    {
     "name": "stdout",
     "output_type": "stream",
     "text": [
      "<class 'pandas.core.frame.DataFrame'>\n",
      "RangeIndex: 103904 entries, 0 to 103903\n",
      "Data columns (total 94 columns):\n",
      " #   Column                               Non-Null Count   Dtype  \n",
      "---  ------                               --------------   -----  \n",
      " 0   Gender                               103904 non-null  int32  \n",
      " 1   Customer Type                        103904 non-null  int32  \n",
      " 2   Age                                  103904 non-null  int64  \n",
      " 3   Type of Travel                       103904 non-null  int32  \n",
      " 4   Flight Distance                      103904 non-null  int64  \n",
      " 5   Departure Delay in Minutes           103904 non-null  int64  \n",
      " 6   Arrival Delay in Minutes             103904 non-null  float64\n",
      " 7   satisfaction                         103904 non-null  int32  \n",
      " 8   Class_Business                       103904 non-null  float64\n",
      " 9   Class_Eco                            103904 non-null  float64\n",
      " 10  Class_Eco Plus                       103904 non-null  float64\n",
      " 11  Inflight wifi service_0              103904 non-null  float64\n",
      " 12  Inflight wifi service_1              103904 non-null  float64\n",
      " 13  Inflight wifi service_2              103904 non-null  float64\n",
      " 14  Inflight wifi service_3              103904 non-null  float64\n",
      " 15  Inflight wifi service_4              103904 non-null  float64\n",
      " 16  Inflight wifi service_5              103904 non-null  float64\n",
      " 17  Departure/Arrival time convenient_0  103904 non-null  float64\n",
      " 18  Departure/Arrival time convenient_1  103904 non-null  float64\n",
      " 19  Departure/Arrival time convenient_2  103904 non-null  float64\n",
      " 20  Departure/Arrival time convenient_3  103904 non-null  float64\n",
      " 21  Departure/Arrival time convenient_4  103904 non-null  float64\n",
      " 22  Departure/Arrival time convenient_5  103904 non-null  float64\n",
      " 23  Ease of Online booking_0             103904 non-null  float64\n",
      " 24  Ease of Online booking_1             103904 non-null  float64\n",
      " 25  Ease of Online booking_2             103904 non-null  float64\n",
      " 26  Ease of Online booking_3             103904 non-null  float64\n",
      " 27  Ease of Online booking_4             103904 non-null  float64\n",
      " 28  Ease of Online booking_5             103904 non-null  float64\n",
      " 29  Gate location_0                      103904 non-null  float64\n",
      " 30  Gate location_1                      103904 non-null  float64\n",
      " 31  Gate location_2                      103904 non-null  float64\n",
      " 32  Gate location_3                      103904 non-null  float64\n",
      " 33  Gate location_4                      103904 non-null  float64\n",
      " 34  Gate location_5                      103904 non-null  float64\n",
      " 35  Food and drink_0                     103904 non-null  float64\n",
      " 36  Food and drink_1                     103904 non-null  float64\n",
      " 37  Food and drink_2                     103904 non-null  float64\n",
      " 38  Food and drink_3                     103904 non-null  float64\n",
      " 39  Food and drink_4                     103904 non-null  float64\n",
      " 40  Food and drink_5                     103904 non-null  float64\n",
      " 41  Online boarding_0                    103904 non-null  float64\n",
      " 42  Online boarding_1                    103904 non-null  float64\n",
      " 43  Online boarding_2                    103904 non-null  float64\n",
      " 44  Online boarding_3                    103904 non-null  float64\n",
      " 45  Online boarding_4                    103904 non-null  float64\n",
      " 46  Online boarding_5                    103904 non-null  float64\n",
      " 47  Seat comfort_0                       103904 non-null  float64\n",
      " 48  Seat comfort_1                       103904 non-null  float64\n",
      " 49  Seat comfort_2                       103904 non-null  float64\n",
      " 50  Seat comfort_3                       103904 non-null  float64\n",
      " 51  Seat comfort_4                       103904 non-null  float64\n",
      " 52  Seat comfort_5                       103904 non-null  float64\n",
      " 53  Inflight entertainment_0             103904 non-null  float64\n",
      " 54  Inflight entertainment_1             103904 non-null  float64\n",
      " 55  Inflight entertainment_2             103904 non-null  float64\n",
      " 56  Inflight entertainment_3             103904 non-null  float64\n",
      " 57  Inflight entertainment_4             103904 non-null  float64\n",
      " 58  Inflight entertainment_5             103904 non-null  float64\n",
      " 59  On-board service_0                   103904 non-null  float64\n",
      " 60  On-board service_1                   103904 non-null  float64\n",
      " 61  On-board service_2                   103904 non-null  float64\n",
      " 62  On-board service_3                   103904 non-null  float64\n",
      " 63  On-board service_4                   103904 non-null  float64\n",
      " 64  On-board service_5                   103904 non-null  float64\n",
      " 65  Leg room service_0                   103904 non-null  float64\n",
      " 66  Leg room service_1                   103904 non-null  float64\n",
      " 67  Leg room service_2                   103904 non-null  float64\n",
      " 68  Leg room service_3                   103904 non-null  float64\n",
      " 69  Leg room service_4                   103904 non-null  float64\n",
      " 70  Leg room service_5                   103904 non-null  float64\n",
      " 71  Baggage handling_1                   103904 non-null  float64\n",
      " 72  Baggage handling_2                   103904 non-null  float64\n",
      " 73  Baggage handling_3                   103904 non-null  float64\n",
      " 74  Baggage handling_4                   103904 non-null  float64\n",
      " 75  Baggage handling_5                   103904 non-null  float64\n",
      " 76  Checkin service_0                    103904 non-null  float64\n",
      " 77  Checkin service_1                    103904 non-null  float64\n",
      " 78  Checkin service_2                    103904 non-null  float64\n",
      " 79  Checkin service_3                    103904 non-null  float64\n",
      " 80  Checkin service_4                    103904 non-null  float64\n",
      " 81  Checkin service_5                    103904 non-null  float64\n",
      " 82  Inflight service_0                   103904 non-null  float64\n",
      " 83  Inflight service_1                   103904 non-null  float64\n",
      " 84  Inflight service_2                   103904 non-null  float64\n",
      " 85  Inflight service_3                   103904 non-null  float64\n",
      " 86  Inflight service_4                   103904 non-null  float64\n",
      " 87  Inflight service_5                   103904 non-null  float64\n",
      " 88  Cleanliness_0                        103904 non-null  float64\n",
      " 89  Cleanliness_1                        103904 non-null  float64\n",
      " 90  Cleanliness_2                        103904 non-null  float64\n",
      " 91  Cleanliness_3                        103904 non-null  float64\n",
      " 92  Cleanliness_4                        103904 non-null  float64\n",
      " 93  Cleanliness_5                        103904 non-null  float64\n",
      "dtypes: float64(87), int32(4), int64(3)\n",
      "memory usage: 72.9 MB\n"
     ]
    }
   ],
   "source": [
    "data.info()"
   ]
  },
  {
   "cell_type": "code",
   "execution_count": 279,
   "metadata": {},
   "outputs": [
    {
     "data": {
      "text/plain": [
       "Index(['Gender', 'Customer Type', 'Age', 'Type of Travel', 'Flight Distance',\n",
       "       'Departure Delay in Minutes', 'Arrival Delay in Minutes',\n",
       "       'satisfaction', 'Class_Business', 'Class_Eco', 'Class_Eco Plus',\n",
       "       'Inflight wifi service_0', 'Inflight wifi service_1',\n",
       "       'Inflight wifi service_2', 'Inflight wifi service_3',\n",
       "       'Inflight wifi service_4', 'Inflight wifi service_5',\n",
       "       'Departure/Arrival time convenient_0',\n",
       "       'Departure/Arrival time convenient_1',\n",
       "       'Departure/Arrival time convenient_2',\n",
       "       'Departure/Arrival time convenient_3',\n",
       "       'Departure/Arrival time convenient_4',\n",
       "       'Departure/Arrival time convenient_5', 'Ease of Online booking_0',\n",
       "       'Ease of Online booking_1', 'Ease of Online booking_2',\n",
       "       'Ease of Online booking_3', 'Ease of Online booking_4',\n",
       "       'Ease of Online booking_5', 'Gate location_0', 'Gate location_1',\n",
       "       'Gate location_2', 'Gate location_3', 'Gate location_4',\n",
       "       'Gate location_5', 'Food and drink_0', 'Food and drink_1',\n",
       "       'Food and drink_2', 'Food and drink_3', 'Food and drink_4',\n",
       "       'Food and drink_5', 'Online boarding_0', 'Online boarding_1',\n",
       "       'Online boarding_2', 'Online boarding_3', 'Online boarding_4',\n",
       "       'Online boarding_5', 'Seat comfort_0', 'Seat comfort_1',\n",
       "       'Seat comfort_2', 'Seat comfort_3', 'Seat comfort_4', 'Seat comfort_5',\n",
       "       'Inflight entertainment_0', 'Inflight entertainment_1',\n",
       "       'Inflight entertainment_2', 'Inflight entertainment_3',\n",
       "       'Inflight entertainment_4', 'Inflight entertainment_5',\n",
       "       'On-board service_0', 'On-board service_1', 'On-board service_2',\n",
       "       'On-board service_3', 'On-board service_4', 'On-board service_5',\n",
       "       'Leg room service_0', 'Leg room service_1', 'Leg room service_2',\n",
       "       'Leg room service_3', 'Leg room service_4', 'Leg room service_5',\n",
       "       'Baggage handling_1', 'Baggage handling_2', 'Baggage handling_3',\n",
       "       'Baggage handling_4', 'Baggage handling_5', 'Checkin service_0',\n",
       "       'Checkin service_1', 'Checkin service_2', 'Checkin service_3',\n",
       "       'Checkin service_4', 'Checkin service_5', 'Inflight service_0',\n",
       "       'Inflight service_1', 'Inflight service_2', 'Inflight service_3',\n",
       "       'Inflight service_4', 'Inflight service_5', 'Cleanliness_0',\n",
       "       'Cleanliness_1', 'Cleanliness_2', 'Cleanliness_3', 'Cleanliness_4',\n",
       "       'Cleanliness_5'],\n",
       "      dtype='object')"
      ]
     },
     "execution_count": 279,
     "metadata": {},
     "output_type": "execute_result"
    }
   ],
   "source": [
    "data.columns"
   ]
  },
  {
   "cell_type": "code",
   "execution_count": 287,
   "metadata": {
    "colab": {
     "base_uri": "https://localhost:8080/"
    },
    "id": "hS2oFxsbjNqM",
    "outputId": "2ab6b5eb-eebd-4edf-97da-f2e4edc00ed3"
   },
   "outputs": [
    {
     "name": "stdout",
     "output_type": "stream",
     "text": [
      "(83123, 93)\n",
      "(20781, 93)\n"
     ]
    }
   ],
   "source": [
    "X = data.drop(columns=['satisfaction'], axis=1)\n",
    "y = data.loc[:,'satisfaction']\n",
    "\n",
    "X_train, X_test, y_train, y_test = train_test_split(X, y, test_size=0.20, random_state=42)\n",
    "\n",
    "print(X_train.shape)\n",
    "print(X_test.shape)"
   ]
  },
  {
   "cell_type": "code",
   "execution_count": 291,
   "metadata": {},
   "outputs": [
    {
     "data": {
      "text/plain": [
       "0         0\n",
       "1         0\n",
       "2         1\n",
       "3         0\n",
       "4         1\n",
       "         ..\n",
       "103899    0\n",
       "103900    1\n",
       "103901    0\n",
       "103902    0\n",
       "103903    0\n",
       "Name: satisfaction, Length: 103904, dtype: int32"
      ]
     },
     "execution_count": 291,
     "metadata": {},
     "output_type": "execute_result"
    }
   ],
   "source": [
    "y"
   ]
  },
  {
   "cell_type": "markdown",
   "metadata": {
    "id": "dNBdk-RojSih"
   },
   "source": [
    "📌 Q2-2. Normalization\n",
    "\n",
    "* StandardScaler를 사용합니다.\n",
    "* StandardScaler는 train data의 평균과 표준편차를 학습한 후, 이를 test data에 동일하게 적용해야 합니다.\n",
    "* 이에 맞게 빈칸을 채워주세요."
   ]
  },
  {
   "cell_type": "code",
   "execution_count": 293,
   "metadata": {
    "id": "HlbHvEZ2jQJH"
   },
   "outputs": [],
   "source": [
    "scaler = StandardScaler()\n",
    "X_train = scaler.fit_transform(X_train)\n",
    "X_test = scaler.fit_transform(X_test)"
   ]
  },
  {
   "cell_type": "code",
   "execution_count": 295,
   "metadata": {
    "colab": {
     "base_uri": "https://localhost:8080/",
     "height": 290
    },
    "id": "Sv3sWMvYjaad",
    "outputId": "b8ae6814-1426-4769-c60f-a0d73333b74e"
   },
   "outputs": [
    {
     "data": {
      "text/html": [
       "<div>\n",
       "<style scoped>\n",
       "    .dataframe tbody tr th:only-of-type {\n",
       "        vertical-align: middle;\n",
       "    }\n",
       "\n",
       "    .dataframe tbody tr th {\n",
       "        vertical-align: top;\n",
       "    }\n",
       "\n",
       "    .dataframe thead th {\n",
       "        text-align: right;\n",
       "    }\n",
       "</style>\n",
       "<table border=\"1\" class=\"dataframe\">\n",
       "  <thead>\n",
       "    <tr style=\"text-align: right;\">\n",
       "      <th></th>\n",
       "      <th>Gender</th>\n",
       "      <th>Customer Type</th>\n",
       "      <th>Age</th>\n",
       "      <th>Type of Travel</th>\n",
       "      <th>Flight Distance</th>\n",
       "      <th>Departure Delay in Minutes</th>\n",
       "      <th>Arrival Delay in Minutes</th>\n",
       "      <th>Class_Business</th>\n",
       "      <th>Class_Eco</th>\n",
       "      <th>Class_Eco Plus</th>\n",
       "      <th>...</th>\n",
       "      <th>Inflight service_2</th>\n",
       "      <th>Inflight service_3</th>\n",
       "      <th>Inflight service_4</th>\n",
       "      <th>Inflight service_5</th>\n",
       "      <th>Cleanliness_0</th>\n",
       "      <th>Cleanliness_1</th>\n",
       "      <th>Cleanliness_2</th>\n",
       "      <th>Cleanliness_3</th>\n",
       "      <th>Cleanliness_4</th>\n",
       "      <th>Cleanliness_5</th>\n",
       "    </tr>\n",
       "  </thead>\n",
       "  <tbody>\n",
       "    <tr>\n",
       "      <th>0</th>\n",
       "      <td>-0.987150</td>\n",
       "      <td>-0.473171</td>\n",
       "      <td>1.299867</td>\n",
       "      <td>1.488528</td>\n",
       "      <td>-0.143103</td>\n",
       "      <td>-0.074078</td>\n",
       "      <td>-0.312457</td>\n",
       "      <td>-0.954673</td>\n",
       "      <td>1.102734</td>\n",
       "      <td>-0.278371</td>\n",
       "      <td>...</td>\n",
       "      <td>2.837923</td>\n",
       "      <td>-0.494607</td>\n",
       "      <td>-0.757117</td>\n",
       "      <td>-0.593769</td>\n",
       "      <td>-0.011504</td>\n",
       "      <td>-0.383879</td>\n",
       "      <td>-0.429605</td>\n",
       "      <td>-0.557512</td>\n",
       "      <td>1.678760</td>\n",
       "      <td>-0.525831</td>\n",
       "    </tr>\n",
       "    <tr>\n",
       "      <th>1</th>\n",
       "      <td>-0.987150</td>\n",
       "      <td>2.113400</td>\n",
       "      <td>0.043551</td>\n",
       "      <td>-0.671805</td>\n",
       "      <td>-0.438007</td>\n",
       "      <td>0.107766</td>\n",
       "      <td>0.355401</td>\n",
       "      <td>1.047479</td>\n",
       "      <td>-0.906837</td>\n",
       "      <td>-0.278371</td>\n",
       "      <td>...</td>\n",
       "      <td>-0.352370</td>\n",
       "      <td>-0.494607</td>\n",
       "      <td>-0.757117</td>\n",
       "      <td>1.684158</td>\n",
       "      <td>-0.011504</td>\n",
       "      <td>2.604989</td>\n",
       "      <td>-0.429605</td>\n",
       "      <td>-0.557512</td>\n",
       "      <td>-0.595678</td>\n",
       "      <td>-0.525831</td>\n",
       "    </tr>\n",
       "    <tr>\n",
       "      <th>2</th>\n",
       "      <td>1.013017</td>\n",
       "      <td>-0.473171</td>\n",
       "      <td>1.696598</td>\n",
       "      <td>1.488528</td>\n",
       "      <td>-0.808142</td>\n",
       "      <td>-0.385812</td>\n",
       "      <td>-0.389518</td>\n",
       "      <td>-0.954673</td>\n",
       "      <td>1.102734</td>\n",
       "      <td>-0.278371</td>\n",
       "      <td>...</td>\n",
       "      <td>-0.352370</td>\n",
       "      <td>-0.494607</td>\n",
       "      <td>-0.757117</td>\n",
       "      <td>1.684158</td>\n",
       "      <td>-0.011504</td>\n",
       "      <td>2.604989</td>\n",
       "      <td>-0.429605</td>\n",
       "      <td>-0.557512</td>\n",
       "      <td>-0.595678</td>\n",
       "      <td>-0.525831</td>\n",
       "    </tr>\n",
       "    <tr>\n",
       "      <th>3</th>\n",
       "      <td>-0.987150</td>\n",
       "      <td>-0.473171</td>\n",
       "      <td>2.027207</td>\n",
       "      <td>1.488528</td>\n",
       "      <td>1.053565</td>\n",
       "      <td>-0.385812</td>\n",
       "      <td>-0.389518</td>\n",
       "      <td>-0.954673</td>\n",
       "      <td>1.102734</td>\n",
       "      <td>-0.278371</td>\n",
       "      <td>...</td>\n",
       "      <td>-0.352370</td>\n",
       "      <td>-0.494607</td>\n",
       "      <td>-0.757117</td>\n",
       "      <td>1.684158</td>\n",
       "      <td>-0.011504</td>\n",
       "      <td>-0.383879</td>\n",
       "      <td>-0.429605</td>\n",
       "      <td>-0.557512</td>\n",
       "      <td>-0.595678</td>\n",
       "      <td>1.901752</td>\n",
       "    </tr>\n",
       "    <tr>\n",
       "      <th>4</th>\n",
       "      <td>-0.987150</td>\n",
       "      <td>2.113400</td>\n",
       "      <td>-0.948277</td>\n",
       "      <td>-0.671805</td>\n",
       "      <td>0.169856</td>\n",
       "      <td>-0.307879</td>\n",
       "      <td>-0.004215</td>\n",
       "      <td>-0.954673</td>\n",
       "      <td>1.102734</td>\n",
       "      <td>-0.278371</td>\n",
       "      <td>...</td>\n",
       "      <td>2.837923</td>\n",
       "      <td>-0.494607</td>\n",
       "      <td>-0.757117</td>\n",
       "      <td>-0.593769</td>\n",
       "      <td>-0.011504</td>\n",
       "      <td>2.604989</td>\n",
       "      <td>-0.429605</td>\n",
       "      <td>-0.557512</td>\n",
       "      <td>-0.595678</td>\n",
       "      <td>-0.525831</td>\n",
       "    </tr>\n",
       "  </tbody>\n",
       "</table>\n",
       "<p>5 rows × 93 columns</p>\n",
       "</div>"
      ],
      "text/plain": [
       "     Gender  Customer Type       Age  Type of Travel  Flight Distance  \\\n",
       "0 -0.987150      -0.473171  1.299867        1.488528        -0.143103   \n",
       "1 -0.987150       2.113400  0.043551       -0.671805        -0.438007   \n",
       "2  1.013017      -0.473171  1.696598        1.488528        -0.808142   \n",
       "3 -0.987150      -0.473171  2.027207        1.488528         1.053565   \n",
       "4 -0.987150       2.113400 -0.948277       -0.671805         0.169856   \n",
       "\n",
       "   Departure Delay in Minutes  Arrival Delay in Minutes  Class_Business  \\\n",
       "0                   -0.074078                 -0.312457       -0.954673   \n",
       "1                    0.107766                  0.355401        1.047479   \n",
       "2                   -0.385812                 -0.389518       -0.954673   \n",
       "3                   -0.385812                 -0.389518       -0.954673   \n",
       "4                   -0.307879                 -0.004215       -0.954673   \n",
       "\n",
       "   Class_Eco  Class_Eco Plus  ...  Inflight service_2  Inflight service_3  \\\n",
       "0   1.102734       -0.278371  ...            2.837923           -0.494607   \n",
       "1  -0.906837       -0.278371  ...           -0.352370           -0.494607   \n",
       "2   1.102734       -0.278371  ...           -0.352370           -0.494607   \n",
       "3   1.102734       -0.278371  ...           -0.352370           -0.494607   \n",
       "4   1.102734       -0.278371  ...            2.837923           -0.494607   \n",
       "\n",
       "   Inflight service_4  Inflight service_5  Cleanliness_0  Cleanliness_1  \\\n",
       "0           -0.757117           -0.593769      -0.011504      -0.383879   \n",
       "1           -0.757117            1.684158      -0.011504       2.604989   \n",
       "2           -0.757117            1.684158      -0.011504       2.604989   \n",
       "3           -0.757117            1.684158      -0.011504      -0.383879   \n",
       "4           -0.757117           -0.593769      -0.011504       2.604989   \n",
       "\n",
       "   Cleanliness_2  Cleanliness_3  Cleanliness_4  Cleanliness_5  \n",
       "0      -0.429605      -0.557512       1.678760      -0.525831  \n",
       "1      -0.429605      -0.557512      -0.595678      -0.525831  \n",
       "2      -0.429605      -0.557512      -0.595678      -0.525831  \n",
       "3      -0.429605      -0.557512      -0.595678       1.901752  \n",
       "4      -0.429605      -0.557512      -0.595678      -0.525831  \n",
       "\n",
       "[5 rows x 93 columns]"
      ]
     },
     "execution_count": 295,
     "metadata": {},
     "output_type": "execute_result"
    }
   ],
   "source": [
    "X_train_data = pd.DataFrame(X_train, columns=X.columns)\n",
    "X_train_data.head()"
   ]
  },
  {
   "cell_type": "markdown",
   "metadata": {
    "id": "5QSMDFd0k0Gh"
   },
   "source": [
    "**3) Modeling**"
   ]
  },
  {
   "cell_type": "markdown",
   "metadata": {
    "id": "39QK60v_sDrN"
   },
   "source": [
    "📌 Q2-3. Hyperparameter Tuning\n",
    "\n",
    "* Random Forest 모델을 이용하며, Grid Search를 이용하여 적절한 하이퍼파라미터를 찾습니다.\n",
    "* Q1의 Hyperparameter Tuning을 참고하여 아래 빈칸을 채워주세요."
   ]
  },
  {
   "cell_type": "code",
   "execution_count": 299,
   "metadata": {
    "colab": {
     "base_uri": "https://localhost:8080/"
    },
    "id": "fbjgKnB2lURJ",
    "outputId": "13ca3f96-2f1a-4b4c-c56e-76de14694316"
   },
   "outputs": [
    {
     "name": "stdout",
     "output_type": "stream",
     "text": [
      "Best hyperparameters for RandomForest: {'criterion': 'entropy', 'max_depth': 20, 'min_samples_split': 2, 'n_estimators': 100}\n"
     ]
    }
   ],
   "source": [
    "rf = RandomForestClassifier(random_state=42)\n",
    "\n",
    "# Grid Search\n",
    "param_grid_rf = {\n",
    "    'n_estimators': [50, 100],\n",
    "    'max_depth': [10, 20],\n",
    "    'min_samples_split': [2, 5],\n",
    "    'criterion': ['gini', 'entropy']\n",
    "}\n",
    "\n",
    "grid_rf = GridSearchCV(\n",
    "    estimator=rf,\n",
    "    param_grid=param_grid_rf,\n",
    "    cv=5,\n",
    "    scoring='accuracy',\n",
    "    n_jobs=-1\n",
    ")\n",
    "\n",
    "grid_rf.fit(X_train, y_train)\n",
    "best_rf = grid_rf.best_estimator_\n",
    "\n",
    "print(\"Best hyperparameters for RandomForest:\", grid_rf.best_params_)"
   ]
  },
  {
   "cell_type": "markdown",
   "metadata": {
    "id": "D_KIIYfHsI4b"
   },
   "source": [
    "📌 Q2-4. k-fold\n",
    "* k-fold를 이용하여 **train set에서 5-CV**를\n",
    "수행하도록 빈칸을 채워주세요.\n",
    "* 참고: https://scikit-learn.org/stable/modules/generated/sklearn.model_selection.KFold.html"
   ]
  },
  {
   "cell_type": "code",
   "execution_count": 313,
   "metadata": {
    "colab": {
     "base_uri": "https://localhost:8080/"
    },
    "id": "rd69xwzql5tW",
    "outputId": "11b4e62a-5419-4053-d420-788b57e2b023"
   },
   "outputs": [
    {
     "name": "stdout",
     "output_type": "stream",
     "text": [
      "Accuracy for each fold: [0.95261006 0.94297401 0.95211742 0.95307988 0.95211742]\n",
      "Max score of RF: 0.9531, Mean score of RF: 0.9506 (std: 0.0038)\n"
     ]
    }
   ],
   "source": [
    "kfold = KFold(n_splits = 5, shuffle=True, random_state=123)\n",
    "cv_scores = cross_val_score(best_rf, X_test , y_test , cv=kfold, scoring=\"accuracy\")\n",
    "\n",
    "print(f\"Accuracy for each fold: {cv_scores}\")\n",
    "print(f\"Max score of RF: {cv_scores.max():.4f}, Mean score of RF: {cv_scores.mean():.4f} (std: {cv_scores.std():.4f})\")"
   ]
  },
  {
   "cell_type": "markdown",
   "metadata": {
    "id": "kjoHIsFWl5dP"
   },
   "source": [
    "**4) Evaluation**"
   ]
  },
  {
   "cell_type": "markdown",
   "metadata": {
    "id": "QoUhP6dksNOf"
   },
   "source": [
    "📌 Q2-5.\n",
    "* 모델을 **test set**에 적용하고, 성능을 평가합니다.\n",
    "* 빈칸도 알맞게 채워 classification report, confusion matrix, ROC curve를 출력하고 결과를 해석해주세요.\n",
    "* 참고: https://scikit-learn.org/stable/modules/generated/sklearn.metrics.classification_report.html\n",
    "* 참고: https://scikit-learn.org/stable/modules/generated/sklearn.metrics.confusion_matrix.html\n",
    "\n"
   ]
  },
  {
   "cell_type": "code",
   "execution_count": 315,
   "metadata": {
    "colab": {
     "base_uri": "https://localhost:8080/"
    },
    "id": "E23t6KiOmb3l",
    "outputId": "ab3934db-a97d-46ba-a124-a2e5cea529fd"
   },
   "outputs": [
    {
     "name": "stdout",
     "output_type": "stream",
     "text": [
      "Accuracy : 0.9586\n",
      "              precision    recall  f1-score   support\n",
      "\n",
      "           0       0.95      0.98      0.96     11713\n",
      "           1       0.97      0.93      0.95      9068\n",
      "\n",
      "    accuracy                           0.96     20781\n",
      "   macro avg       0.96      0.96      0.96     20781\n",
      "weighted avg       0.96      0.96      0.96     20781\n",
      "\n"
     ]
    }
   ],
   "source": [
    "pred = best_rf.predict(X_test)\n",
    "\n",
    "accuracy = np.round(accuracy_score(y_test, pred),4)\n",
    "best_rf_cm = confusion_matrix(y_test, pred)\n",
    "\n",
    "print(\"Accuracy : {}\".format(np.round(accuracy,4)))\n",
    "print(classification_report(y_test, pred))"
   ]
  },
  {
   "cell_type": "code",
   "execution_count": 317,
   "metadata": {
    "colab": {
     "base_uri": "https://localhost:8080/",
     "height": 449
    },
    "id": "7FuIqlIXmcUy",
    "outputId": "986fa572-78d8-4e12-da1b-792122e6c428"
   },
   "outputs": [
    {
     "data": {
      "image/png": "[encoded data removed]",
      "text/plain": [
       "<Figure size 640x480 with 2 Axes>"
      ]
     },
     "metadata": {},
     "output_type": "display_data"
    }
   ],
   "source": [
    "best_disp = ConfusionMatrixDisplay(confusion_matrix=best_rf_cm, display_labels=best_rf.classes_)\n",
    "best_disp.plot()\n",
    "plt.show()"
   ]
  },
  {
   "cell_type": "code",
   "execution_count": 319,
   "metadata": {
    "id": "428k318CmftL"
   },
   "outputs": [],
   "source": [
    "def roc_plot(X, y, model):\n",
    "    pred = model.predict(X)\n",
    "    pred_positive = model.predict_proba(X)[:,1]\n",
    "    fprs, tprs, threshold = roc_curve(y, pred_positive)\n",
    "    auc = roc_auc_score(y,pred).round(3)\n",
    "    plt.figure(figsize=(6,5))\n",
    "    plt.plot([0,1],label='Standard')\n",
    "    plt.plot(fprs, tprs, label='ROC')\n",
    "    plt.text(0.81,0.22,\"AUC:{}\".format(auc))\n",
    "    plt.xlabel('FPR')\n",
    "    plt.ylabel('TPR')\n",
    "    plt.legend()\n",
    "    plt.grid()\n",
    "    plt.show()"
   ]
  },
  {
   "cell_type": "code",
   "execution_count": 321,
   "metadata": {
    "colab": {
     "base_uri": "https://localhost:8080/",
     "height": 465
    },
    "id": "mCbipVHHmhJR",
    "outputId": "b4042d0f-4175-49c8-9cda-e0b6ac41b3b0"
   },
   "outputs": [
    {
     "data": {
      "image/png": "[encoded data removed]",
      "text/plain": [
       "<Figure size 600x500 with 1 Axes>"
      ]
     },
     "metadata": {},
     "output_type": "display_data"
    }
   ],
   "source": [
    "roc_plot(X = X_test, y=y_test, model=best_rf)"
   ]
  },
  {
   "cell_type": "markdown",
   "metadata": {
    "id": "vXFmDfZbL6MO"
   },
   "source": [
    "답안: confusion matrix를 통해 균형적인 데이터로 테스트 했음을 알 수 있고  airline의 경우 서비스이므로 고객 만족도가 낮은 경우를 잘 예측하는 것이 중요하다고 생각한다. 따라서 모델이 classfication report를 통해 실제 불만족인 경우 이를 불만족으로 예측을 얼마나 잘했는지 평가할 수 있는 recall 지표가 0.98이 나왔으므로 성능이 좋다고 판단할 수 있다. 또한 roc curve를 통해 각 데이터에 대해 어떻게 예측했는지 세세하게 확인할 수 있다. AUC가 0.956이 나와 1에 매우 근접했으므로 성능이 좋음을 알 수 있다. 특히 threshold가 낮을 때 FPR이 낮을 때 TPR이 높게 나온 점을 봤을 때 만족함을 예측하는 확률이 매우 높음을 알 수 있다.\r\n"
   ]
  },
  {
   "cell_type": "markdown",
   "metadata": {
    "id": "CTZNigCrL7sp"
   },
   "source": [
    "2주차 1교시 과제는 여기까지입니다. 수고하셨습니다☺️"
   ]
  }
 ],
 "metadata": {
  "colab": {
   "provenance": []
  },
  "kernelspec": {
   "display_name": "Python 3 (ipykernel)",
   "language": "python",
   "name": "python3"
  },
  "language_info": {
   "codemirror_mode": {
    "name": "ipython",
    "version": 3
   },
   "file_extension": ".py",
   "mimetype": "text/x-python",
   "name": "python",
   "nbconvert_exporter": "python",
   "pygments_lexer": "ipython3",
   "version": "3.8.19"
  }
 },
 "nbformat": 4,
 "nbformat_minor": 4
}
